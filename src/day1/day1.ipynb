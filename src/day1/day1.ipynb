{
 "cells": [
  {
   "cell_type": "markdown",
   "metadata": {},
   "source": [
    "# Problem - Part One\n",
    "You're standing in a room with \"digitization quarantine\" written in LEDs along one wall. The only door is locked, but it includes a small interface. \"Restricted Area - Strictly No Digitized Users Allowed.\"\n",
    "\n",
    "It goes on to explain that you may only leave by solving a captcha to prove you're not a human. Apparently, you only get one millisecond to solve the captcha: too fast for a normal human, but it feels like hours to you.\n",
    "\n",
    "The captcha requires you to review a sequence of digits (your puzzle input) and find the sum of all digits that match the next digit in the list. The list is circular, so the digit after the last digit is the first digit in the list.\n",
    "\n",
    "For example:\n",
    "\n",
    "    1122 produces a sum of 3 (1 + 2) because the first digit (1) matches the second digit and the third digit (2) matches the fourth digit.\n",
    "    1111 produces 4 because each digit (all 1) matches the next.\n",
    "    1234 produces 0 because no digit matches the next.\n",
    "    91212129 produces 9 because the only digit that matches the next one is the last digit, 9.\n",
    "\n",
    "What is the solution to your captcha?"
   ]
  },
  {
   "cell_type": "code",
   "execution_count": 24,
   "metadata": {},
   "outputs": [],
   "source": [
    "def solve(l):\n",
    "    l = [int(x) for x in l + l[0]]\n",
    "    return sum([x for (i, x) in enumerate(l) if i != 0 and x == l[i-1]])"
   ]
  },
  {
   "cell_type": "markdown",
   "metadata": {},
   "source": [
    "## Testing"
   ]
  },
  {
   "cell_type": "code",
   "execution_count": 25,
   "metadata": {},
   "outputs": [
    {
     "name": "stdout",
     "output_type": "stream",
     "text": [
      "CORRECT: 1122\n",
      "CORRECT: 1111\n",
      "CORRECT: 1234\n",
      "CORRECT: 91212129\n"
     ]
    }
   ],
   "source": [
    "examples = [\n",
    "    (\"1122\",     3),\n",
    "    (\"1111\",     4),\n",
    "    (\"1234\",     0),\n",
    "    (\"91212129\", 9)\n",
    "]\n",
    "\n",
    "for problem, solution in examples:\n",
    "    if solve(problem) != solution:\n",
    "        print(\"ERROR: {0}\".format(problem))\n",
    "    else:\n",
    "        print(\"CORRECT: {0}\".format(problem))"
   ]
  },
  {
   "cell_type": "markdown",
   "metadata": {},
   "source": [
    "## Solution"
   ]
  },
  {
   "cell_type": "code",
   "execution_count": 26,
   "metadata": {},
   "outputs": [
    {
     "name": "stdout",
     "output_type": "stream",
     "text": [
      "1150\n"
     ]
    }
   ],
   "source": [
    "with open(\"./input.txt\") as fin:\n",
    "    problem = fin.readline().strip()\n",
    "    print(solve(problem))"
   ]
  },
  {
   "cell_type": "markdown",
   "metadata": {},
   "source": [
    "# Part Two\n",
    "You notice a progress bar that jumps to 50% completion. Apparently, the door isn't yet satisfied, but it did emit a star as encouragement. The instructions change:\n",
    "\n",
    "Now, instead of considering the next digit, it wants you to consider the digit halfway around the circular list. That is, if your list contains 10 items, only include a digit in your sum if the digit 10/2 = 5 steps forward matches it. Fortunately, your list has an even number of elements.\n",
    "\n",
    "For example:\n",
    "\n",
    "    1212 produces 6: the list contains 4 items, and all four digits match the digit 2 items ahead.\n",
    "    1221 produces 0, because every comparison is between a 1 and a 2.\n",
    "    123425 produces 4, because both 2s match each other, but no other digit has a match.\n",
    "    123123 produces 12.\n",
    "    12131415 produces 4.\n",
    "\n",
    "What is the solution to your new captcha?"
   ]
  },
  {
   "cell_type": "code",
   "execution_count": 44,
   "metadata": {},
   "outputs": [],
   "source": [
    "def solve(l):\n",
    "    d = int(len(l) / 2)\n",
    "    return sum([int(x) for (i, x) in enumerate(l) if x == l[(i+d)%len(l)]])"
   ]
  },
  {
   "cell_type": "code",
   "execution_count": 45,
   "metadata": {},
   "outputs": [
    {
     "name": "stdout",
     "output_type": "stream",
     "text": [
      "CORRECT: 1212\n",
      "CORRECT: 1221\n",
      "CORRECT: 123425\n",
      "CORRECT: 123123\n",
      "CORRECT: 12131415\n"
     ]
    }
   ],
   "source": [
    "examples = [\n",
    "    (\"1212\",     6),\n",
    "    (\"1221\",     0),\n",
    "    (\"123425\",   4),\n",
    "    (\"123123\",   12),\n",
    "    (\"12131415\", 4)\n",
    "]\n",
    "\n",
    "for problem, solution in examples:\n",
    "    if solve(problem) != solution:\n",
    "        print(\"ERROR on {0}: Expected {1} but got {2}\".format(problem, solution, solve(problem)))\n",
    "    else:\n",
    "        print(\"CORRECT: {0}\".format(problem))"
   ]
  },
  {
   "cell_type": "markdown",
   "metadata": {},
   "source": [
    "# Solution"
   ]
  },
  {
   "cell_type": "code",
   "execution_count": 46,
   "metadata": {},
   "outputs": [
    {
     "name": "stdout",
     "output_type": "stream",
     "text": [
      "1064\n"
     ]
    }
   ],
   "source": [
    "with open(\"./input.txt\") as fin:\n",
    "    problem = fin.readline().strip()\n",
    "    print(solve(problem))"
   ]
  },
  {
   "cell_type": "code",
   "execution_count": null,
   "metadata": {},
   "outputs": [],
   "source": []
  }
 ],
 "metadata": {
  "kernelspec": {
   "display_name": "Python 2",
   "language": "python",
   "name": "python2"
  },
  "language_info": {
   "codemirror_mode": {
    "name": "ipython",
    "version": 2
   },
   "file_extension": ".py",
   "mimetype": "text/x-python",
   "name": "python",
   "nbconvert_exporter": "python",
   "pygments_lexer": "ipython2",
   "version": "2.7.14"
  }
 },
 "nbformat": 4,
 "nbformat_minor": 2
}
