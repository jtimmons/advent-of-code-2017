{
 "cells": [
  {
   "cell_type": "markdown",
   "metadata": {},
   "source": [
    "# Problem - Part One\n",
    "You discover a tablet containing some strange assembly code labeled simply \"Duet\". Rather than bother the sound card with it, you decide to run the code yourself. Unfortunately, you don't see any documentation, so you're left to figure out what the instructions mean on your own.\n",
    "\n",
    "It seems like the assembly is meant to operate on a set of registers that are each named with a single letter and that can each hold a single integer. You suppose each register should start with a value of 0.\n",
    "\n",
    "There aren't that many instructions, so it shouldn't be hard to figure out what they do. Here's what you determine:\n",
    "\n",
    "    snd X plays a sound with a frequency equal to the value of X.\n",
    "    set X Y sets register X to the value of Y.\n",
    "    add X Y increases register X by the value of Y.\n",
    "    mul X Y sets register X to the result of multiplying the value contained in register X by the value of Y.\n",
    "    mod X Y sets register X to the remainder of dividing the value contained in register X by the value of Y (that is, it sets X to the result of X modulo Y).\n",
    "    rcv X recovers the frequency of the last sound played, but only when the value of X is not zero. (If it is zero, the command does nothing.)\n",
    "    jgz X Y jumps with an offset of the value of Y, but only if the value of X is greater than zero. (An offset of 2 skips the next instruction, an offset of -1 jumps to the previous instruction, and so on.)\n",
    "\n",
    "Many of the instructions can take either a register (a single letter) or a number. The value of a register is the integer it contains; the value of a number is that number.\n",
    "\n",
    "After each jump instruction, the program continues with the instruction to which the jump jumped. After any other instruction, the program continues with the next instruction. Continuing (or jumping) off either end of the program terminates it.\n",
    "\n",
    "For example:\n",
    "\n",
    "    set a 1\n",
    "    add a 2\n",
    "    mul a a\n",
    "    mod a 5\n",
    "    snd a\n",
    "    set a 0\n",
    "    rcv a\n",
    "    jgz a -1\n",
    "    set a 1\n",
    "    jgz a -2\n",
    "\n",
    "    The first four instructions set a to 1, add 2 to it, square it, and then set it to itself modulo 5, resulting in a value of 4.\n",
    "    Then, a sound with frequency 4 (the value of a) is played.\n",
    "    After that, a is set to 0, causing the subsequent rcv and jgz instructions to both be skipped (rcv because a is 0, and jgz because a is not greater than 0).\n",
    "    Finally, a is set to 1, causing the next jgz instruction to activate, jumping back two instructions to another jump, which jumps again to the rcv, which ultimately triggers the recover operation.\n",
    "\n",
    "At the time the recover operation is executed, the frequency of the last sound played is 4.\n",
    "\n",
    "What is the value of the recovered frequency (the value of the most recently played sound) the first time a rcv instruction is executed with a non-zero value?"
   ]
  },
  {
   "cell_type": "markdown",
   "metadata": {},
   "source": [
    "## Solution"
   ]
  },
  {
   "cell_type": "code",
   "execution_count": 91,
   "metadata": {},
   "outputs": [],
   "source": [
    "import logging\n",
    "from collections import defaultdict\n",
    "\n",
    "\n",
    "reload(logging)\n",
    "logging.basicConfig(level=logging.INFO)\n",
    "\n",
    "\n",
    "class Interpreter(object):\n",
    "    \n",
    "    def __init__(self, lines):\n",
    "        self.registers = defaultdict(int)\n",
    "        self.lines     = list(lines)\n",
    "        self.playing   = None\n",
    "        self.recovered = None\n",
    "        self.index     = 0\n",
    "\n",
    "\n",
    "    def eval(self):\n",
    "        op, args = self.read()\n",
    "        logging.debug(\"{0}: {1} {2}\".format(self.index, op, ' '.join(args)))\n",
    "\n",
    "        if   op == \"set\":\n",
    "            logging.debug(\"Setting {0} to value {1}\".format(args[0], self.value(args[1])))\n",
    "            self.registers[args[0]] =  self.value(args[1])\n",
    "        elif op == \"add\":\n",
    "            logging.debug(\"Adding {1} to value {0}\".format(args[0], self.value(args[1])))\n",
    "            self.registers[args[0]] += self.value(args[1])\n",
    "        elif op == \"mul\":\n",
    "            logging.debug(\"Multiplying {0} by value {1}\".format(args[0], self.value(args[1])))\n",
    "            self.registers[args[0]] *= self.value(args[1])\n",
    "        elif op == \"mod\":\n",
    "            logging.debug(\"Modular dividing {0} by {1}\".format(args[0], self.value(args[1])))\n",
    "            self.registers[args[0]] %= self.value(args[1])\n",
    "        elif op == \"snd\":\n",
    "            logging.debug(\"Playing {0}\".format(self.value(args[0])))\n",
    "            self.playing = self.value(args[0])\n",
    "        elif op == \"rcv\" and self.value(args[0]) != 0:\n",
    "            logging.debug(\"Recovering sound\")\n",
    "            self.recovered = self.playing\n",
    "        elif op == \"jgz\" and self.registers[args[0]] > 0:\n",
    "            logging.debug(\"Jumping {0} lines\".format(self.value(args[1])))\n",
    "            self.index += self.value(args[1])          \n",
    "            return self.eval()\n",
    "        else:\n",
    "            logging.debug(\"Doing nothing\")\n",
    "            \n",
    "        self.index += 1\n",
    "        \n",
    "    def read(self):\n",
    "        line = self.lines[self.index]\n",
    "        op, argstring = line.split(\" \", 1)\n",
    "        return (op, argstring.split())\n",
    "    \n",
    "    def value(self, arg):\n",
    "        try:\n",
    "            return int(arg)\n",
    "        except ValueError:\n",
    "            return self.registers[arg]\n",
    "        \n",
    "\n",
    "def solve(lines):\n",
    "    interpreter = Interpreter(lines)\n",
    "    while not interpreter.recovered:\n",
    "        interpreter.eval()\n",
    "    print(interpreter.recovered)"
   ]
  },
  {
   "cell_type": "code",
   "execution_count": 92,
   "metadata": {},
   "outputs": [
    {
     "name": "stdout",
     "output_type": "stream",
     "text": [
      "4\n"
     ]
    }
   ],
   "source": [
    "example = [\n",
    "    \"set a 1\",\n",
    "    \"add a 2\",\n",
    "    \"mul a a\",\n",
    "    \"mod a 5\",\n",
    "    \"snd a\",\n",
    "    \"set a 0\",\n",
    "    \"rcv a\",\n",
    "    \"jgz a -1\",\n",
    "    \"set a 1\",\n",
    "    \"jgz a -2\"\n",
    "]\n",
    "\n",
    "solve(example)"
   ]
  },
  {
   "cell_type": "code",
   "execution_count": 93,
   "metadata": {},
   "outputs": [
    {
     "name": "stdout",
     "output_type": "stream",
     "text": [
      "1187\n"
     ]
    }
   ],
   "source": [
    "solve( open(\"./input.txt\").readlines() )"
   ]
  },
  {
   "cell_type": "markdown",
   "metadata": {},
   "source": [
    "# Problem - Part Two\n",
    "As you congratulate yourself for a job well done, you notice that the documentation has been on the back of the tablet this entire time. While you actually got most of the instructions correct, there are a few key differences. This assembly code isn't about sound at all - it's meant to be run twice at the same time.\n",
    "\n",
    "Each running copy of the program has its own set of registers and follows the code independently - in fact, the programs don't even necessarily run at the same speed. To coordinate, they use the send (snd) and receive (rcv) instructions:\n",
    "\n",
    "    snd X sends the value of X to the other program. These values wait in a queue until that program is ready to receive them. Each program has its own message queue, so a program can never receive a message it sent.\n",
    "    rcv X receives the next value and stores it in register X. If no values are in the queue, the program waits for a value to be sent to it. Programs do not continue to the next instruction until they have received a value. Values are received in the order they are sent.\n",
    "\n",
    "Each program also has its own program ID (one 0 and the other 1); the register p should begin with this value.\n",
    "\n",
    "For example:\n",
    "\n",
    "    snd 1\n",
    "    snd 2\n",
    "    snd p\n",
    "    rcv a\n",
    "    rcv b\n",
    "    rcv c\n",
    "    rcv d\n",
    "\n",
    "Both programs begin by sending three values to the other. Program 0 sends 1, 2, 0; program 1 sends 1, 2, 1. Then, each program receives a value (both 1) and stores it in a, receives another value (both 2) and stores it in b, and then each receives the program ID of the other program (program 0 receives 1; program 1 receives 0) and stores it in c. Each program now sees a different value in its own copy of register c.\n",
    "\n",
    "Finally, both programs try to rcv a fourth time, but no data is waiting for either of them, and they reach a deadlock. When this happens, both programs terminate.\n",
    "\n",
    "It should be noted that it would be equally valid for the programs to run at different speeds; for example, program 0 might have sent all three values and then stopped at the first rcv before program 1 executed even its first instruction.\n",
    "\n",
    "Once both of your programs have terminated (regardless of what caused them to do so), how many times did program 1 send a value?"
   ]
  },
  {
   "cell_type": "code",
   "execution_count": null,
   "metadata": {},
   "outputs": [],
   "source": []
  }
 ],
 "metadata": {
  "kernelspec": {
   "display_name": "Python 2",
   "language": "python",
   "name": "python2"
  },
  "language_info": {
   "codemirror_mode": {
    "name": "ipython",
    "version": 2
   },
   "file_extension": ".py",
   "mimetype": "text/x-python",
   "name": "python",
   "nbconvert_exporter": "python",
   "pygments_lexer": "ipython2",
   "version": "2.7.14"
  }
 },
 "nbformat": 4,
 "nbformat_minor": 2
}
