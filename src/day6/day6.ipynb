{
 "cells": [
  {
   "cell_type": "markdown",
   "metadata": {},
   "source": [
    "# Problem - Part One\n",
    "A debugger program here is having an issue: it is trying to repair a memory reallocation routine, but it keeps getting stuck in an infinite loop.\n",
    "\n",
    "In this area, there are sixteen memory banks; each memory bank can hold any number of blocks. The goal of the reallocation routine is to balance the blocks between the memory banks.\n",
    "\n",
    "The reallocation routine operates in cycles. In each cycle, it finds the memory bank with the most blocks (ties won by the lowest-numbered memory bank) and redistributes those blocks among the banks. To do this, it removes all of the blocks from the selected bank, then moves to the next (by index) memory bank and inserts one of the blocks. It continues doing this until it runs out of blocks; if it reaches the last memory bank, it wraps around to the first one.\n",
    "\n",
    "The debugger would like to know how many redistributions can be done before a blocks-in-banks configuration is produced that has been seen before.\n",
    "\n",
    "For example, imagine a scenario with only four memory banks:\n",
    "\n",
    "    The banks start with 0, 2, 7, and 0 blocks. The third bank has the most blocks, so it is chosen for redistribution.\n",
    "    Starting with the next bank (the fourth bank) and then continuing to the first bank, the second bank, and so on, the 7 blocks are spread out over the memory banks. The fourth, first, and second banks get two blocks each, and the third bank gets one back. The final result looks like this: 2 4 1 2.\n",
    "    Next, the second bank is chosen because it contains the most blocks (four). Because there are four memory banks, each gets one block. The result is: 3 1 2 3.\n",
    "    Now, there is a tie between the first and fourth memory banks, both of which have three blocks. The first bank wins the tie, and its three blocks are distributed evenly over the other three banks, leaving it with none: 0 2 3 4.\n",
    "    The fourth bank is chosen, and its four blocks are distributed such that each of the four banks receives one: 1 3 4 1.\n",
    "    The third bank is chosen, and the same thing happens: 2 4 1 2.\n",
    "\n",
    "At this point, we've reached a state we've seen before: 2 4 1 2 was already seen. The infinite loop is detected after the fifth block redistribution cycle, and so the answer in this example is 5.\n",
    "\n",
    "Given the initial block counts in your puzzle input, how many redistribution cycles must be completed before a configuration is produced that has been seen before?"
   ]
  },
  {
   "cell_type": "code",
   "execution_count": 10,
   "metadata": {},
   "outputs": [
    {
     "data": {
      "text/plain": [
       "[2, 4, 1, 2]"
      ]
     },
     "execution_count": 10,
     "metadata": {},
     "output_type": "execute_result"
    }
   ],
   "source": [
    "def redistribute(banks, i):\n",
    "    \"\"\"\"Redistribute bank #i in the list of memory banks\"\"\"\n",
    "    num_blocks = banks[i]\n",
    "    banks[i] = 0\n",
    "    for _ in range(num_blocks):\n",
    "        i = (i+1) % len(banks)\n",
    "        banks[i] += 1\n",
    "    return banks\n",
    "        \n",
    "def cycle(banks):\n",
    "    i = banks.index(max(banks))\n",
    "    return redistribute(banks, i)\n",
    "\n",
    "cycle([0,2,7,0])"
   ]
  },
  {
   "cell_type": "code",
   "execution_count": 13,
   "metadata": {},
   "outputs": [
    {
     "data": {
      "text/plain": [
       "5"
      ]
     },
     "execution_count": 13,
     "metadata": {},
     "output_type": "execute_result"
    }
   ],
   "source": [
    "def hash_list(banks):\n",
    "    return sum([x * (10**i) for (i,x) in enumerate(banks)])\n",
    "\n",
    "def solve(banks):\n",
    "    states = set()\n",
    "    while True:\n",
    "        states.add(hash_list(banks))\n",
    "        banks = cycle(banks)\n",
    "\n",
    "        if hash_list(banks) in states:\n",
    "            return len(states)\n",
    "        \n",
    "solve([0,2,7,0])"
   ]
  },
  {
   "cell_type": "code",
   "execution_count": 15,
   "metadata": {},
   "outputs": [
    {
     "name": "stdout",
     "output_type": "stream",
     "text": [
      "11137\n"
     ]
    }
   ],
   "source": [
    "for line in open(\"./input.txt\"):\n",
    "    line = [int(x) for x in line.split()]\n",
    "    print(solve(line))"
   ]
  },
  {
   "cell_type": "markdown",
   "metadata": {},
   "source": [
    "# Part Two\n",
    "Out of curiosity, the debugger would also like to know the size of the loop: starting from a state that has already been seen, how many block redistribution cycles must be performed before that same state is seen again?\n",
    "\n",
    "In the example above, 2 4 1 2 is seen again after four cycles, and so the answer in that example would be 4.\n",
    "\n",
    "How many cycles are in the infinite loop that arises from the configuration in your puzzle input?"
   ]
  },
  {
   "cell_type": "code",
   "execution_count": 22,
   "metadata": {},
   "outputs": [
    {
     "data": {
      "text/plain": [
       "(5, 4)"
      ]
     },
     "execution_count": 22,
     "metadata": {},
     "output_type": "execute_result"
    }
   ],
   "source": [
    "def solve2(banks):\n",
    "    i = 0\n",
    "    states = {}\n",
    "    while True:\n",
    "        i += 1\n",
    "        states[hash_list(banks)] = i\n",
    "        banks = cycle(banks)\n",
    "        \n",
    "        if hash_list(banks) in states:\n",
    "            prev_idx = states[hash_list(banks)]\n",
    "            return (i, i - prev_idx + 1)\n",
    "\n",
    "solve2([0,2,7,0])"
   ]
  },
  {
   "cell_type": "code",
   "execution_count": 23,
   "metadata": {},
   "outputs": [
    {
     "name": "stdout",
     "output_type": "stream",
     "text": [
      "(11137, 1037)\n"
     ]
    }
   ],
   "source": [
    "for line in open(\"./input.txt\"):\n",
    "    line = [int(x) for x in line.split()]\n",
    "    print(solve2(line))"
   ]
  },
  {
   "cell_type": "code",
   "execution_count": null,
   "metadata": {},
   "outputs": [],
   "source": []
  }
 ],
 "metadata": {
  "kernelspec": {
   "display_name": "Python 2",
   "language": "python",
   "name": "python2"
  },
  "language_info": {
   "codemirror_mode": {
    "name": "ipython",
    "version": 2
   },
   "file_extension": ".py",
   "mimetype": "text/x-python",
   "name": "python",
   "nbconvert_exporter": "python",
   "pygments_lexer": "ipython2",
   "version": "2.7.14"
  }
 },
 "nbformat": 4,
 "nbformat_minor": 2
}
