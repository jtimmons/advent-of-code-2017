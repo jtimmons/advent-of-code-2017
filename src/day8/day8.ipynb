{
 "cells": [
  {
   "cell_type": "markdown",
   "metadata": {},
   "source": [
    "# Problem - Part One\n",
    "You receive a signal directly from the CPU. Because of your recent assistance with jump instructions, it would like you to compute the result of a series of unusual register instructions.\n",
    "\n",
    "Each instruction consists of several parts: the register to modify, whether to increase or decrease that register's value, the amount by which to increase or decrease it, and a condition. If the condition fails, skip the instruction without modifying the register. The registers all start at 0. The instructions look like this:\n",
    "\n",
    "    b inc 5 if a > 1\n",
    "    a inc 1 if b < 5\n",
    "    c dec -10 if a >= 1\n",
    "    c inc -20 if c == 10\n",
    "\n",
    "These instructions would be processed as follows:\n",
    "\n",
    "    Because a starts at 0, it is not greater than 1, and so b is not modified.\n",
    "    a is increased by 1 (to 1) because b is less than 5 (it is 0).\n",
    "    c is decreased by -10 (to 10) because a is now greater than or equal to 1 (it is 1).\n",
    "    c is increased by -20 (to -10) because c is equal to 10.\n",
    "\n",
    "After this process, the largest value in any register is 1.\n",
    "\n",
    "You might also encounter <= (less than or equal to) or != (not equal to). However, the CPU doesn't have the bandwidth to tell you what all the registers are named, and leaves that to you to determine.\n",
    "\n",
    "What is the largest value in any register after completing the instructions in your puzzle input?"
   ]
  },
  {
   "cell_type": "code",
   "execution_count": 4,
   "metadata": {},
   "outputs": [
    {
     "data": {
      "text/plain": [
       "('b', <function _operator.add>, 5, 'a', <function _operator.gt>, 1)"
      ]
     },
     "execution_count": 4,
     "metadata": {},
     "output_type": "execute_result"
    }
   ],
   "source": [
    "import operator\n",
    "\n",
    "operators = {\n",
    "    \"inc\": operator.add,\n",
    "    \"dec\": operator.sub,\n",
    "    \"<\": operator.lt,\n",
    "    \">\": operator.gt,\n",
    "    \">=\": operator.ge,\n",
    "    \"<=\": operator.le,\n",
    "    \"==\": operator.eq,\n",
    "    \"!=\": operator.ne\n",
    "}\n",
    "\n",
    "def parse(line):\n",
    "    r, op, num, _, cond_r, comp, comp_num = line.split()\n",
    "    num = int(num)\n",
    "    comp_num = int(comp_num)\n",
    "    return r, operators[op], num, cond_r, operators[comp], comp_num\n",
    "\n",
    "parse(\"b inc 5 if a > 1\")"
   ]
  },
  {
   "cell_type": "code",
   "execution_count": 13,
   "metadata": {},
   "outputs": [],
   "source": [
    "from collections import defaultdict\n",
    "\n",
    "\n",
    "def cycle(registers, line):\n",
    "    r, op, num, cond_r, comp, cond_num = parse(line)\n",
    "    if comp(registers[cond_r], cond_num):\n",
    "        registers[r] = op(registers[r], num)\n",
    "    else:\n",
    "        registers[r] = registers[r]\n",
    "    return registers\n",
    "\n",
    "\n",
    "def solve(lines):\n",
    "    registers = defaultdict(int)\n",
    "    for line in lines:\n",
    "        registers = cycle(registers, line)\n",
    "    return max(registers.values())"
   ]
  },
  {
   "cell_type": "code",
   "execution_count": 14,
   "metadata": {},
   "outputs": [
    {
     "data": {
      "text/plain": [
       "1"
      ]
     },
     "execution_count": 14,
     "metadata": {},
     "output_type": "execute_result"
    }
   ],
   "source": [
    "example, solution = [\n",
    "    \"b inc 5 if a > 1\",\n",
    "    \"a inc 1 if b < 5\",\n",
    "    \"c dec -10 if a >= 1\",\n",
    "    \"c inc -20 if c == 10\"\n",
    "], 1\n",
    "\n",
    "solve(example)"
   ]
  },
  {
   "cell_type": "code",
   "execution_count": 16,
   "metadata": {},
   "outputs": [
    {
     "data": {
      "text/plain": [
       "3089"
      ]
     },
     "execution_count": 16,
     "metadata": {},
     "output_type": "execute_result"
    }
   ],
   "source": [
    "solve(open(\"./input.txt\"))"
   ]
  },
  {
   "cell_type": "markdown",
   "metadata": {},
   "source": [
    "# Problem - Part Two\n",
    "To be safe, the CPU also needs to know the highest value held in any register during this process so that it can decide how much memory to allocate to these operations. For example, in the above instructions, the highest value ever held was 10 (in register c after the third instruction was evaluated)."
   ]
  },
  {
   "cell_type": "code",
   "execution_count": 20,
   "metadata": {},
   "outputs": [
    {
     "data": {
      "text/plain": [
       "(5391, 3089)"
      ]
     },
     "execution_count": 20,
     "metadata": {},
     "output_type": "execute_result"
    }
   ],
   "source": [
    "def solve2(lines):\n",
    "    highest_value = float(\"-inf\")\n",
    "    registers = defaultdict(int)\n",
    "    for line in lines:\n",
    "        registers = cycle(registers, line)\n",
    "        highest_value = max(highest_value, max(registers.values()))\n",
    "    return highest_value, max(registers.values())\n",
    "\n",
    "solve2(open(\"./input.txt\"))"
   ]
  },
  {
   "cell_type": "code",
   "execution_count": null,
   "metadata": {},
   "outputs": [],
   "source": []
  }
 ],
 "metadata": {
  "kernelspec": {
   "display_name": "Python 3",
   "language": "python",
   "name": "python3"
  },
  "language_info": {
   "codemirror_mode": {
    "name": "ipython",
    "version": 3
   },
   "file_extension": ".py",
   "mimetype": "text/x-python",
   "name": "python",
   "nbconvert_exporter": "python",
   "pygments_lexer": "ipython3",
   "version": "3.4.2"
  }
 },
 "nbformat": 4,
 "nbformat_minor": 2
}
