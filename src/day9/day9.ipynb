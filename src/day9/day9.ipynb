{
 "cells": [
  {
   "cell_type": "markdown",
   "metadata": {},
   "source": [
    "# Problem - Part One\n",
    "A large stream blocks your path. According to the locals, it's not safe to cross the stream at the moment because it's full of garbage. You look down at the stream; rather than water, you discover that it's a stream of characters.\n",
    "\n",
    "You sit for a while and record part of the stream (your puzzle input). The characters represent groups - sequences that begin with { and end with }. Within a group, there are zero or more other things, separated by commas: either another group or garbage. Since groups can contain other groups, a } only closes the most-recently-opened unclosed group - that is, they are nestable. Your puzzle input represents a single, large group which itself contains many smaller ones.\n",
    "\n",
    "Sometimes, instead of a group, you will find garbage. Garbage begins with < and ends with >. Between those angle brackets, almost any character can appear, including { and }. Within garbage, < has no special meaning.\n",
    "\n",
    "In a futile attempt to clean up the garbage, some program has canceled some of the characters within it using !: inside garbage, any character that comes after ! should be ignored, including <, >, and even another !.\n",
    "\n",
    "You don't see any characters that deviate from these rules. Outside garbage, you only find well-formed groups, and garbage always terminates according to the rules above.\n",
    "\n",
    "Here are some self-contained pieces of garbage:\n",
    "\n",
    "    <>, empty garbage.\n",
    "    <random characters>, garbage containing random characters.\n",
    "    <<<<>, because the extra < are ignored.\n",
    "    <{!>}>, because the first > is canceled.\n",
    "    <!!>, because the second ! is canceled, allowing the > to terminate the garbage.\n",
    "    <!!!>>, because the second ! and the first > are canceled.\n",
    "    <{o\"i!a,<{i<a>, which ends at the first >.\n",
    "\n",
    "Here are some examples of whole streams and the number of groups they contain:\n",
    "\n",
    "    {}, 1 group.\n",
    "    {{{}}}, 3 groups.\n",
    "    {{},{}}, also 3 groups.\n",
    "    {{{},{},{{}}}}, 6 groups.\n",
    "    {<{},{},{{}}>}, 1 group (which itself contains garbage).\n",
    "    {<a>,<a>,<a>,<a>}, 1 group.\n",
    "    {{<a>},{<a>},{<a>},{<a>}}, 5 groups.\n",
    "    {{<!>},{<!>},{<!>},{<a>}}, 2 groups (since all but the last > are canceled).\n",
    "\n",
    "Your goal is to find the total score for all groups in your input. Each group is assigned a score which is one more than the score of the group that immediately contains it. (The outermost group gets a score of 1.)\n",
    "\n",
    "    {}, score of 1.\n",
    "    {{{}}}, score of 1 + 2 + 3 = 6.\n",
    "    {{},{}}, score of 1 + 2 + 2 = 5.\n",
    "    {{{},{},{{}}}}, score of 1 + 2 + 3 + 3 + 3 + 4 = 16.\n",
    "    {<a>,<a>,<a>,<a>}, score of 1.\n",
    "    {{<ab>},{<ab>},{<ab>},{<ab>}}, score of 1 + 2 + 2 + 2 + 2 = 9.\n",
    "    {{<!!>},{<!!>},{<!!>},{<!!>}}, score of 1 + 2 + 2 + 2 + 2 = 9.\n",
    "    {{<a!>},{<a!>},{<a!>},{<ab>}}, score of 1 + 2 = 3.\n",
    "\n",
    "What is the total score for all groups in your input?"
   ]
  },
  {
   "cell_type": "code",
   "execution_count": 37,
   "metadata": {},
   "outputs": [
    {
     "name": "stdout",
     "output_type": "stream",
     "text": [
      "('', True)\n",
      "('', True)\n",
      "('', True)\n",
      "('', True)\n",
      "('', True)\n",
      "('', True)\n",
      "('', True)\n"
     ]
    }
   ],
   "source": [
    "def garbage(stream):\n",
    "    while True:\n",
    "        c = next(stream)\n",
    "        if c == \"!\":\n",
    "            next(stream) # skip\n",
    "        elif c == \">\":\n",
    "            return c\n",
    "        \n",
    "garbage_examples = [\n",
    "    \"<>\",\n",
    "    \"<random characters>\",\n",
    "    \"<<<<>\",\n",
    "    \"<{!>}>\",\n",
    "    \"<!!>\",\n",
    "    \"<!!!>>\",\n",
    "    \"<{o\\\"i!a,<{i<a>\"\n",
    "]\n",
    "\n",
    "for example in garbage_examples:\n",
    "    stream = iter(example)\n",
    "    next(stream)\n",
    "    garbage(stream)\n",
    "    leftovers = ''.join(list(stream))\n",
    "    print(leftovers, len(leftovers) == 0)"
   ]
  },
  {
   "cell_type": "code",
   "execution_count": 38,
   "metadata": {},
   "outputs": [
    {
     "name": "stdout",
     "output_type": "stream",
     "text": [
      "('{}', True)\n",
      "('{{{}}}', True)\n",
      "('{{},{}}', True)\n",
      "('{{{},{},{{}}}}', True)\n",
      "('{<a>,<a>,<a>,<a>}', True)\n",
      "('{{<ab>},{<ab>},{<ab>},{<ab>}}', True)\n",
      "('{{<!!>},{<!!>},{<!!>},{<!!>}}', True)\n",
      "('{{<a!>},{<a!>},{<a!>},{<ab>}}', True)\n"
     ]
    }
   ],
   "source": [
    "def solve(stream):\n",
    "    stack = []\n",
    "    scores = []\n",
    "    for c in stream:\n",
    "        if c == \"{\":\n",
    "            stack.append(len(stack)+1)\n",
    "        elif c == \"}\":\n",
    "            scores.append(stack.pop())\n",
    "        elif c == \"<\":\n",
    "            garbage(stream)\n",
    "            \n",
    "    return sum(scores)\n",
    "            \n",
    "examples = [\n",
    "    (\"{}\", 1),\n",
    "    (\"{{{}}}\", 6),\n",
    "    (\"{{},{}}\", 5),\n",
    "    (\"{{{},{},{{}}}}\", 16),\n",
    "    (\"{<a>,<a>,<a>,<a>}\", 1),\n",
    "    (\"{{<ab>},{<ab>},{<ab>},{<ab>}}\", 9),\n",
    "    (\"{{<!!>},{<!!>},{<!!>},{<!!>}}\", 9),\n",
    "    (\"{{<a!>},{<a!>},{<a!>},{<ab>}}\", 3)\n",
    "]\n",
    "\n",
    "for problem, solution in examples:\n",
    "    print(problem, solve(iter(problem)) == solution)"
   ]
  },
  {
   "cell_type": "code",
   "execution_count": 39,
   "metadata": {},
   "outputs": [
    {
     "data": {
      "text/plain": [
       "20530"
      ]
     },
     "execution_count": 39,
     "metadata": {},
     "output_type": "execute_result"
    }
   ],
   "source": [
    "solve(iter(open(\"./input.txt\").readline()))"
   ]
  },
  {
   "cell_type": "markdown",
   "metadata": {},
   "source": [
    "# Problem - Part Two\n",
    "Now, you're ready to remove the garbage.\n",
    "\n",
    "To prove you've removed it, you need to count all of the characters within the garbage. The leading and trailing < and > don't count, nor do any canceled characters or the ! doing the canceling.\n",
    "\n",
    "    <>, 0 characters.\n",
    "    <random characters>, 17 characters.\n",
    "    <<<<>, 3 characters.\n",
    "    <{!>}>, 2 characters.\n",
    "    <!!>, 0 characters.\n",
    "    <!!!>>, 0 characters.\n",
    "    <{o\"i!a,<{i<a>, 10 characters.\n",
    "\n",
    "How many non-canceled characters are within the garbage in your puzzle input?"
   ]
  },
  {
   "cell_type": "code",
   "execution_count": 40,
   "metadata": {},
   "outputs": [
    {
     "name": "stdout",
     "output_type": "stream",
     "text": [
      "('', True, True)\n",
      "('', True, True)\n",
      "('', True, True)\n",
      "('', True, True)\n",
      "('', True, True)\n",
      "('', True, True)\n",
      "('', True, True)\n"
     ]
    }
   ],
   "source": [
    "def garbage(stream):\n",
    "    garbage_length = 0\n",
    "    while True:\n",
    "        c = next(stream)\n",
    "        if c == \"!\":\n",
    "            next(stream) # skip\n",
    "        elif c == \">\":\n",
    "            return garbage_length\n",
    "        else:\n",
    "            garbage_length += 1 # Does not include delimeters, '!', or cancelled chars\n",
    "        \n",
    "garbage_examples = [\n",
    "    (\"<>\", 0),\n",
    "    (\"<random characters>\", 17),\n",
    "    (\"<<<<>\", 3),\n",
    "    (\"<{!>}>\", 2),\n",
    "    (\"<!!>\", 0),\n",
    "    (\"<!!!>>\", 0),\n",
    "    (\"<{o\\\"i!a,<{i<a>\", 10)\n",
    "]\n",
    "\n",
    "for example, solution in garbage_examples:\n",
    "    stream = iter(example)\n",
    "    next(stream)\n",
    "    length = garbage(stream)\n",
    "    leftovers = ''.join(list(stream))\n",
    "    print(leftovers, len(leftovers) == 0, length == solution)"
   ]
  },
  {
   "cell_type": "code",
   "execution_count": 41,
   "metadata": {},
   "outputs": [
    {
     "data": {
      "text/plain": [
       "(20530, 9978)"
      ]
     },
     "execution_count": 41,
     "metadata": {},
     "output_type": "execute_result"
    }
   ],
   "source": [
    "def solve(stream):\n",
    "    stack = []\n",
    "    scores = []\n",
    "    removed_garbage = 0\n",
    "    for c in stream:\n",
    "        if c == \"{\":\n",
    "            stack.append(len(stack)+1)\n",
    "        elif c == \"}\":\n",
    "            scores.append(stack.pop())\n",
    "        elif c == \"<\":\n",
    "            removed_garbage += garbage(stream)\n",
    "            \n",
    "    return sum(scores), removed_garbage\n",
    "\n",
    "\n",
    "solve(iter(open(\"./input.txt\").readline()))"
   ]
  },
  {
   "cell_type": "code",
   "execution_count": null,
   "metadata": {},
   "outputs": [],
   "source": []
  }
 ],
 "metadata": {
  "kernelspec": {
   "display_name": "Python 2",
   "language": "python",
   "name": "python2"
  },
  "language_info": {
   "codemirror_mode": {
    "name": "ipython",
    "version": 2
   },
   "file_extension": ".py",
   "mimetype": "text/x-python",
   "name": "python",
   "nbconvert_exporter": "python",
   "pygments_lexer": "ipython2",
   "version": "2.7.14"
  }
 },
 "nbformat": 4,
 "nbformat_minor": 2
}
