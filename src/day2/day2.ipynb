{
 "cells": [
  {
   "cell_type": "markdown",
   "metadata": {},
   "source": [
    "# Problem - Part One\n",
    "As you walk through the door, a glowing humanoid shape yells in your direction. \"You there! Your state appears to be idle. Come help us repair the corruption in this spreadsheet - if we take another millisecond, we'll have to display an hourglass cursor!\"\n",
    "\n",
    "The spreadsheet consists of rows of apparently-random numbers. To make sure the recovery process is on the right track, they need you to calculate the spreadsheet's checksum. For each row, determine the difference between the largest value and the smallest value; the checksum is the sum of all of these differences.\n",
    "\n",
    "For example, given the following spreadsheet:\n",
    "\n",
    "\\begin{matrix}\n",
    "5 & 1 & 9 & 5 \\\\\n",
    "7 & 5 & 3 \\\\\n",
    "2 & 4 & 6 &  8 \\\\\n",
    "\\end{matrix}\n",
    "\n",
    "    The first row's largest and smallest values are 9 and 1, and their difference is 8.\n",
    "    The second row's largest and smallest values are 7 and 3, and their difference is 4.\n",
    "    The third row's difference is 6.\n",
    "\n",
    "In this example, the spreadsheet's checksum would be 8 + 4 + 6 = 18.\n",
    "\n",
    "What is the checksum for the spreadsheet in your puzzle input?"
   ]
  },
  {
   "cell_type": "code",
   "execution_count": 35,
   "metadata": {},
   "outputs": [],
   "source": [
    "def rowdiff(line):\n",
    "    line = (int(x) for x in line.strip().split())\n",
    "    minimum, maximum = reduce(lambda minmax, x: (min(minmax[0], x),max(minmax[1], x)),\n",
    "                              line,\n",
    "                              (float(\"inf\"), float(\"-inf\")))\n",
    "    return maximum - minimum\n",
    "\n",
    "def checksum(lines):\n",
    "    return sum((rowdiff(line) for line in lines))\n",
    "\n",
    "solve = checksum"
   ]
  },
  {
   "cell_type": "markdown",
   "metadata": {},
   "source": [
    "## Testing"
   ]
  },
  {
   "cell_type": "code",
   "execution_count": 17,
   "metadata": {},
   "outputs": [
    {
     "name": "stdout",
     "output_type": "stream",
     "text": [
      "CORRECT: 18\n"
     ]
    }
   ],
   "source": [
    "example, solution = (\"\"\"5 1 9 5\n",
    "7 5 3\n",
    "2 4 6 8\"\"\", 18)\n",
    "\n",
    "if checksum((line for line in example.split('\\n'))) == solution:\n",
    "    print(\"CORRECT: {0}\".format(solution))\n",
    "else:\n",
    "    print(\"ERROR!\")"
   ]
  },
  {
   "cell_type": "markdown",
   "metadata": {},
   "source": [
    "## Solution"
   ]
  },
  {
   "cell_type": "code",
   "execution_count": 36,
   "metadata": {},
   "outputs": [
    {
     "name": "stdout",
     "output_type": "stream",
     "text": [
      "44887\n"
     ]
    }
   ],
   "source": [
    "with open(\"./input.txt\") as fin:\n",
    "    print(checksum((line for line in fin)))"
   ]
  },
  {
   "cell_type": "markdown",
   "metadata": {},
   "source": [
    "# Part Two\n",
    "\"Great work; looks like we're on the right track after all. Here's a star for your effort.\" However, the program seems a little worried. Can programs be worried?\n",
    "\n",
    "\"Based on what we're seeing, it looks like all the User wanted is some information about the evenly divisible values in the spreadsheet. Unfortunately, none of us are equipped for that kind of calculation - most of us specialize in bitwise operations.\"\n",
    "\n",
    "It sounds like the goal is to find the only two numbers in each row where one evenly divides the other - that is, where the result of the division operation is a whole number. They would like you to find those numbers on each line, divide them, and add up each line's result.\n",
    "\n",
    "For example, given the following spreadsheet:\n",
    "\n",
    "\\begin{matrix}\n",
    "5 & 9 & 2 & 8 \\\\\n",
    "9 & 4 & 7 & 3 \\\\\n",
    "3 & 8 & 6 & 5\n",
    "\\end{matrix}\n",
    "\n",
    "    In the first row, the only two numbers that evenly divide are 8 and 2; the result of this division is 4.\n",
    "    In the second row, the two numbers are 9 and 3; the result is 3.\n",
    "    In the third row, the result is 2.\n",
    "\n",
    "In this example, the sum of the results would be 4 + 3 + 2 = 9.\n",
    "\n",
    "What is the sum of each row's result in your puzzle input?\n",
    "\n"
   ]
  },
  {
   "cell_type": "code",
   "execution_count": 51,
   "metadata": {},
   "outputs": [],
   "source": [
    "import itertools\n",
    "\n",
    "def rowvalue(row):\n",
    "    row = (int(x) for x in row.strip().split())\n",
    "    divisors = [(x, y) for (x, y) in itertools.permutations(row, 2) if x % y == 0]\n",
    "    return divisors[0][0] / divisors[0][1]\n",
    "\n",
    "def checksum(lines):\n",
    "    return sum((rowvalue(line) for line in lines))\n",
    "\n",
    "solve2 = checksum"
   ]
  },
  {
   "cell_type": "code",
   "execution_count": 52,
   "metadata": {},
   "outputs": [
    {
     "name": "stdout",
     "output_type": "stream",
     "text": [
      "4\n",
      "3\n",
      "2\n"
     ]
    }
   ],
   "source": [
    "example, solution = (\"\"\"5 9 2 8\n",
    "9 4 7 3\n",
    "3 8 6 5\"\"\", 9)\n",
    "\n",
    "for line in example.split('\\n'):\n",
    "    print(rowvalue(line))"
   ]
  },
  {
   "cell_type": "code",
   "execution_count": 54,
   "metadata": {},
   "outputs": [
    {
     "name": "stdout",
     "output_type": "stream",
     "text": [
      "242\n"
     ]
    }
   ],
   "source": [
    "with open(\"./input.txt\") as fin:\n",
    "    print(solve2((line for line in fin)))"
   ]
  },
  {
   "cell_type": "code",
   "execution_count": null,
   "metadata": {},
   "outputs": [],
   "source": []
  }
 ],
 "metadata": {
  "kernelspec": {
   "display_name": "Python 2",
   "language": "python",
   "name": "python2"
  },
  "language_info": {
   "codemirror_mode": {
    "name": "ipython",
    "version": 2
   },
   "file_extension": ".py",
   "mimetype": "text/x-python",
   "name": "python",
   "nbconvert_exporter": "python",
   "pygments_lexer": "ipython2",
   "version": "2.7.14"
  }
 },
 "nbformat": 4,
 "nbformat_minor": 2
}
