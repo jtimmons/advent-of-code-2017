{
 "cells": [
  {
   "cell_type": "markdown",
   "metadata": {},
   "source": [
    "# Problem - Part One\n",
    "You come upon a very unusual sight; a group of programs here appear to be dancing.\n",
    "\n",
    "There are sixteen programs in total, named a through p. They start by standing in a line: a stands in position 0, b stands in position 1, and so on until p, which stands in position 15.\n",
    "\n",
    "The programs' dance consists of a sequence of dance moves:\n",
    "\n",
    "    Spin, written sX, makes X programs move from the end to the front, but maintain their order otherwise. (For example, s3 on abcde produces cdeab).\n",
    "    Exchange, written xA/B, makes the programs at positions A and B swap places.\n",
    "    Partner, written pA/B, makes the programs named A and B swap places.\n",
    "\n",
    "For example, with only five programs standing in a line (abcde), they could do the following dance:\n",
    "\n",
    "    s1, a spin of size 1: eabcd.\n",
    "    x3/4, swapping the last two programs: eabdc.\n",
    "    pe/b, swapping programs e and b: baedc.\n",
    "\n",
    "After finishing their dance, the programs end up in order baedc.\n",
    "\n",
    "You watch the dance for a while and record their dance moves (your puzzle input). In what order are the programs standing after their dance?"
   ]
  },
  {
   "cell_type": "markdown",
   "metadata": {},
   "source": [
    "## Solution"
   ]
  },
  {
   "cell_type": "code",
   "execution_count": 20,
   "metadata": {},
   "outputs": [
    {
     "name": "stdout",
     "output_type": "stream",
     "text": [
      "cdeab\n",
      "[1, 3, 2, 4, 5]\n"
     ]
    }
   ],
   "source": [
    "def spin(l, items):\n",
    "    return l[-items:] + l[:-items]\n",
    "\n",
    "def swap(l, i, j):\n",
    "    l[i], l[j] = l[j], l[i]\n",
    "    return l\n",
    "\n",
    "\n",
    "print(spin(\"abcde\", 3))            # Should be 'cdeab'\n",
    "print(swap([1, 2, 3, 4, 5], 1, 2)) # Should be [1, 3, 2, 4, 5]"
   ]
  },
  {
   "cell_type": "code",
   "execution_count": 26,
   "metadata": {},
   "outputs": [
    {
     "data": {
      "text/plain": [
       "'baedc'"
      ]
     },
     "execution_count": 26,
     "metadata": {},
     "output_type": "execute_result"
    }
   ],
   "source": [
    "def solve(l, actions):\n",
    "    for action in actions:\n",
    "        cmd, args = action[0], action[1:].split('/')\n",
    "\n",
    "        if   cmd == 's':\n",
    "            l = spin(l, int(args[0]))\n",
    "        elif cmd == 'x':\n",
    "            l = swap(l, int(args[0]), int(args[1]))\n",
    "        elif cmd == 'p':\n",
    "            i = l.index(args[0])\n",
    "            j = l.index(args[1])\n",
    "            l = swap(l, i, j)\n",
    "    \n",
    "    return l\n",
    "\n",
    "ex_start   = list(\"abcde\")\n",
    "ex_actions = [\"s1\", \"x3/4\", \"pe/b\"]\n",
    "\n",
    "solution = solve(ex_start, ex_actions)\n",
    "\n",
    "''.join(solution) # Should be 'baedc'"
   ]
  },
  {
   "cell_type": "code",
   "execution_count": 35,
   "metadata": {},
   "outputs": [
    {
     "data": {
      "text/plain": [
       "'dcmlhejnifpokgba'"
      ]
     },
     "execution_count": 35,
     "metadata": {},
     "output_type": "execute_result"
    }
   ],
   "source": [
    "import string\n",
    "\n",
    "start   = list(string.ascii_lowercase[:16])\n",
    "actions = open(\"./input.txt\").readline().split(\",\")\n",
    "solution = solve(start, actions)\n",
    "\n",
    "''.join(solution)"
   ]
  },
  {
   "cell_type": "markdown",
   "metadata": {},
   "source": [
    "# Problem - Part Two\n",
    "Now that you're starting to get a feel for the dance moves, you turn your attention to the dance as a whole.\n",
    "\n",
    "Keeping the positions they ended up in from their previous dance, the programs perform it again and again: including the first dance, a total of one billion (1000000000) times.\n",
    "\n",
    "In the example above, their second dance would begin with the order baedc, and use the same dance moves:\n",
    "\n",
    "    s1, a spin of size 1: cbaed.\n",
    "    x3/4, swapping the last two programs: cbade.\n",
    "    pe/b, swapping programs e and b: ceadb.\n",
    "\n",
    "In what order are the programs standing after their billion dances?"
   ]
  },
  {
   "cell_type": "markdown",
   "metadata": {},
   "source": [
    "## Solution - Take One\n",
    "Since the actions being performed are the same between each run, we can think of each \"cycle\" as a transformation being applied to this 1-dimensional matrix 1,000,000,000 times. Once we _find_ that transformation, it should be trivial to apply it many times.\n",
    "\n",
    "**UPDATE** May not be possible - one command references the _name_ of a program, and specific locations of programs are not going to be the same between runs."
   ]
  },
  {
   "cell_type": "code",
   "execution_count": 58,
   "metadata": {},
   "outputs": [
    {
     "data": {
      "text/plain": [
       "array([False,  True, False, False, False, False, False,  True, False,\n",
       "       False, False, False, False, False, False, False], dtype=bool)"
      ]
     },
     "execution_count": 58,
     "metadata": {},
     "output_type": "execute_result"
    }
   ],
   "source": [
    "import numpy as np\n",
    "\n",
    "transform = []\n",
    "for program in solution:\n",
    "    transform.append(start.index(program))\n",
    "    \n",
    "transform = np.array(transform)\n",
    "np.array(start)[transform]\n",
    "\n",
    "np.array(solve(solution, actions)) == np.array(start)[transform][transform]"
   ]
  },
  {
   "cell_type": "code",
   "execution_count": null,
   "metadata": {},
   "outputs": [],
   "source": []
  }
 ],
 "metadata": {
  "kernelspec": {
   "display_name": "Python 2",
   "language": "python",
   "name": "python2"
  },
  "language_info": {
   "codemirror_mode": {
    "name": "ipython",
    "version": 2
   },
   "file_extension": ".py",
   "mimetype": "text/x-python",
   "name": "python",
   "nbconvert_exporter": "python",
   "pygments_lexer": "ipython2",
   "version": "2.7.14"
  }
 },
 "nbformat": 4,
 "nbformat_minor": 2
}
