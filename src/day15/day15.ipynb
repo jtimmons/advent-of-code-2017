{
 "cells": [
  {
   "cell_type": "markdown",
   "metadata": {},
   "source": [
    "# Problem - Part One\n",
    "Here, you encounter a pair of dueling generators. The generators, called generator A and generator B, are trying to agree on a sequence of numbers. However, one of them is malfunctioning, and so the sequences don't always match.\n",
    "\n",
    "As they do this, a judge waits for each of them to generate its next value, compares the lowest 16 bits of both values, and keeps track of the number of times those parts of the values match.\n",
    "\n",
    "The generators both work on the same principle. To create its next value, a generator will take the previous value it produced, multiply it by a factor (generator A uses 16807; generator B uses 48271), and then keep the remainder of dividing that resulting product by 2147483647. That final remainder is the value it produces next.\n",
    "\n",
    "To calculate each generator's first value, it instead uses a specific starting value as its \"previous value\" (as listed in your puzzle input).\n",
    "\n",
    "For example, suppose that for starting values, generator A uses 65, while generator B uses 8921. Then, the first five pairs of generated values are:\n",
    "\n",
    "    --Gen. A--  --Gen. B--\n",
    "       1092455   430625591\n",
    "    1181022009  1233683848\n",
    "     245556042  1431495498\n",
    "    1744312007   137874439\n",
    "    1352636452   285222916\n",
    "\n",
    "In binary, these pairs are (with generator A's value first in each pair):\n",
    "\n",
    "00000000000100001010101101100111\n",
    "00011001101010101101001100110111\n",
    "\n",
    "01000110011001001111011100111001\n",
    "01001001100010001000010110001000\n",
    "\n",
    "00001110101000101110001101001010\n",
    "01010101010100101110001101001010\n",
    "\n",
    "01100111111110000001011011000111\n",
    "00001000001101111100110000000111\n",
    "\n",
    "01010000100111111001100000100100\n",
    "00010001000000000010100000000100\n",
    "\n",
    "Here, you can see that the lowest (here, rightmost) 16 bits of the third value match: 1110001101001010. Because of this one match, after processing these five pairs, the judge would have added only 1 to its total.\n",
    "\n",
    "To get a significant sample, the judge would like to consider 40 million pairs. (In the example above, the judge would eventually find a total of 588 pairs that match in their lowest 16 bits.)\n",
    "\n",
    "After 40 million pairs, what is the judge's final count?\n",
    "\n",
    "\n",
    "## Input\n",
    "    Generator A starts with 289\n",
    "    Generator B starts with 629"
   ]
  },
  {
   "cell_type": "markdown",
   "metadata": {},
   "source": [
    "## Solution"
   ]
  },
  {
   "cell_type": "code",
   "execution_count": 1,
   "metadata": {},
   "outputs": [
    {
     "name": "stdout",
     "output_type": "stream",
     "text": [
      "--Gen. A--\n",
      "1092455\n",
      "1181022009\n",
      "245556042\n",
      "1744312007\n",
      "1352636452\n",
      "\n",
      "--Gen. B--\n",
      "430625591\n",
      "1233683848\n",
      "1431495498\n",
      "137874439\n",
      "285222916\n",
      "\n"
     ]
    }
   ],
   "source": [
    "import itertools\n",
    "\n",
    "\n",
    "def generator(start, factor, divisor=2147483647):\n",
    "    value = start\n",
    "    while True:\n",
    "        value = (value * factor) % divisor\n",
    "        yield value\n",
    "\n",
    "\n",
    "ex_A = lambda: generator(65,   16807)\n",
    "ex_B = lambda: generator(8921, 48271)\n",
    "\n",
    "print(\"--Gen. A--\\n{0}\\n\".format('\\n'.join([str(x) for x in itertools.islice(ex_A(), 5)])))\n",
    "print(\"--Gen. B--\\n{0}\\n\".format('\\n'.join([str(x) for x in itertools.islice(ex_B(), 5)])))"
   ]
  },
  {
   "cell_type": "code",
   "execution_count": 2,
   "metadata": {},
   "outputs": [
    {
     "name": "stdout",
     "output_type": "stream",
     "text": [
      "1010101101100111\n",
      "0000000000000001\n"
     ]
    }
   ],
   "source": [
    "def least_significant_bits(x, n=16):\n",
    "    bits = bin(x).split(\"0b\")[1]\n",
    "    return bits[-n:].zfill(n)\n",
    "\n",
    "print(least_significant_bits(next(ex_A())))\n",
    "print(least_significant_bits(1))"
   ]
  },
  {
   "cell_type": "code",
   "execution_count": 3,
   "metadata": {},
   "outputs": [
    {
     "data": {
      "text/plain": [
       "588"
      ]
     },
     "execution_count": 3,
     "metadata": {},
     "output_type": "execute_result"
    }
   ],
   "source": [
    "def solve(gen_A, gen_B, n=40000000):\n",
    "    matches = 0\n",
    "    for _ in range(n):\n",
    "        a = next(gen_A)\n",
    "        b = next(gen_B)\n",
    "        if least_significant_bits(a) == least_significant_bits(b):\n",
    "            matches += 1\n",
    "    return matches\n",
    "\n",
    "solve(ex_A(), ex_B())"
   ]
  },
  {
   "cell_type": "code",
   "execution_count": 4,
   "metadata": {},
   "outputs": [
    {
     "data": {
      "text/plain": [
       "638"
      ]
     },
     "execution_count": 4,
     "metadata": {},
     "output_type": "execute_result"
    }
   ],
   "source": [
    "A = lambda: generator(289,   16807)\n",
    "B = lambda: generator(629, 48271)\n",
    "\n",
    "solve(A(), B())"
   ]
  },
  {
   "cell_type": "markdown",
   "metadata": {},
   "source": [
    "# Problem - Part Two\n",
    "In the interest of trying to align a little better, the generators get more picky about the numbers they actually give to the judge.\n",
    "\n",
    "They still generate values in the same way, but now they only hand a value to the judge when it meets their criteria:\n",
    "\n",
    "    Generator A looks for values that are multiples of 4.\n",
    "    Generator B looks for values that are multiples of 8.\n",
    "\n",
    "Each generator functions completely independently: they both go through values entirely on their own, only occasionally handing an acceptable value to the judge, and otherwise working through the same sequence of values as before until they find one.\n",
    "\n",
    "The judge still waits for each generator to provide it with a value before comparing them (using the same comparison method as before). It keeps track of the order it receives values; the first values from each generator are compared, then the second values from each generator, then the third values, and so on.\n",
    "\n",
    "Using the example starting values given above, the generators now produce the following first five values each:\n",
    "\n",
    "    --Gen. A--  --Gen. B--\n",
    "    1352636452  1233683848\n",
    "    1992081072   862516352\n",
    "     530830436  1159784568\n",
    "    1980017072  1616057672\n",
    "     740335192   412269392\n",
    "\n",
    "These values have the following corresponding binary values:\n",
    "\n",
    "01010000100111111001100000100100\n",
    "01001001100010001000010110001000\n",
    "\n",
    "01110110101111001011111010110000\n",
    "00110011011010001111010010000000\n",
    "\n",
    "00011111101000111101010001100100\n",
    "01000101001000001110100001111000\n",
    "\n",
    "01110110000001001010100110110000\n",
    "01100000010100110001010101001000\n",
    "\n",
    "00101100001000001001111001011000\n",
    "00011000100100101011101101010000\n",
    "\n",
    "Unfortunately, even though this change makes more bits similar on average, none of these values' lowest 16 bits match. Now, it's not until the 1056th pair that the judge finds the first match:\n",
    "\n",
    "--Gen. A--  --Gen. B--\n",
    "1023762912   896885216\n",
    "\n",
    "00111101000001010110000111100000\n",
    "00110101011101010110000111100000\n",
    "\n",
    "This change makes the generators much slower, and the judge is getting impatient; it is now only willing to consider 5 million pairs. (Using the values from the example above, after five million pairs, the judge would eventually find a total of 309 pairs that match in their lowest 16 bits.)\n",
    "\n",
    "After 5 million pairs, but using this new generator logic, what is the judge's final count?"
   ]
  },
  {
   "cell_type": "markdown",
   "metadata": {},
   "source": [
    "## Solution"
   ]
  },
  {
   "cell_type": "code",
   "execution_count": 7,
   "metadata": {},
   "outputs": [
    {
     "name": "stdout",
     "output_type": "stream",
     "text": [
      "--Gen. A--\n",
      "1352636452\n",
      "1992081072\n",
      "530830436\n",
      "1980017072\n",
      "740335192\n",
      "\n",
      "--Gen. B--\n",
      "1233683848\n",
      "862516352\n",
      "1159784568\n",
      "1616057672\n",
      "412269392\n",
      "\n",
      "309\n"
     ]
    }
   ],
   "source": [
    "def generator(start, factor, divisor=2147483647, predicate=None):\n",
    "    value = start\n",
    "    while True:\n",
    "        value = (value * factor) % divisor\n",
    "        \n",
    "        if predicate and predicate(value):\n",
    "            yield value\n",
    "\n",
    "\n",
    "ex_A2 = lambda: generator(65,   16807, predicate=lambda x: x % 4 == 0)\n",
    "ex_B2 = lambda: generator(8921, 48271, predicate=lambda x: x % 8 == 0)\n",
    "\n",
    "print(\"--Gen. A--\\n{0}\\n\".format('\\n'.join([str(x) for x in itertools.islice(ex_A2(), 5)])))\n",
    "print(\"--Gen. B--\\n{0}\\n\".format('\\n'.join([str(x) for x in itertools.islice(ex_B2(), 5)])))\n",
    "print(solve(ex_A2(), ex_B2(), n=5000000))"
   ]
  },
  {
   "cell_type": "code",
   "execution_count": 8,
   "metadata": {},
   "outputs": [
    {
     "data": {
      "text/plain": [
       "343"
      ]
     },
     "execution_count": 8,
     "metadata": {},
     "output_type": "execute_result"
    }
   ],
   "source": [
    "A2 = lambda: generator(289, 16807, predicate=lambda x: x % 4 == 0)\n",
    "B2 = lambda: generator(629, 48271, predicate=lambda x: x % 8 == 0)\n",
    "\n",
    "solve(A2(), B2(), n=5000000)"
   ]
  },
  {
   "cell_type": "code",
   "execution_count": null,
   "metadata": {},
   "outputs": [],
   "source": []
  }
 ],
 "metadata": {
  "kernelspec": {
   "display_name": "Python 2",
   "language": "python",
   "name": "python2"
  },
  "language_info": {
   "codemirror_mode": {
    "name": "ipython",
    "version": 2
   },
   "file_extension": ".py",
   "mimetype": "text/x-python",
   "name": "python",
   "nbconvert_exporter": "python",
   "pygments_lexer": "ipython2",
   "version": "2.7.14"
  }
 },
 "nbformat": 4,
 "nbformat_minor": 2
}
