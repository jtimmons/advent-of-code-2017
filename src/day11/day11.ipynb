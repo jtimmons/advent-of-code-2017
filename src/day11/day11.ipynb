{
 "cells": [
  {
   "cell_type": "markdown",
   "metadata": {},
   "source": [
    "# Problem - Part One\n",
    "Crossing the bridge, you've barely reached the other side of the stream when a program comes up to you, clearly in distress. \"It's my child process,\" she says, \"he's gotten lost in an infinite grid!\"\n",
    "\n",
    "Fortunately for her, you have plenty of experience with infinite grids.\n",
    "\n",
    "Unfortunately for you, it's a hex grid.\n",
    "\n",
    "The hexagons (\"hexes\") in this grid are aligned such that adjacent hexes can be found to the north, northeast, southeast, south, southwest, and northwest:\n",
    "\n",
    "      \\ n  /\n",
    "    nw +--+ ne\n",
    "      /    \\\n",
    "    -+      +-\n",
    "      \\    /\n",
    "    sw +--+ se\n",
    "      / s  \\\n",
    "\n",
    "You have the path the child process took. Starting where he started, you need to determine the fewest number of steps required to reach him. (A \"step\" means to move from the hex you are in to any adjacent hex.)\n",
    "\n",
    "For example:\n",
    "\n",
    "    ne,ne,ne is 3 steps away.\n",
    "    ne,ne,sw,sw is 0 steps away (back where you started).\n",
    "    ne,ne,s,s is 2 steps away (se,se).\n",
    "    se,sw,se,sw,sw is 3 steps away (s,s,sw)."
   ]
  },
  {
   "cell_type": "markdown",
   "metadata": {},
   "source": [
    "## Solution\n",
    "On first attempt, I defined a simple (x,y) hexagonal grid; this works rather naturally for laying out the coordinate plane, but does not hold for easy distance calculations. As it stands, it requires one to route along the grid to calculate the distance between cells - we simply can't calculate the distance across three different movement axes on a two-dimensional plane."
   ]
  },
  {
   "cell_type": "code",
   "execution_count": 1,
   "metadata": {},
   "outputs": [
    {
     "data": {
      "text/plain": [
       "[[1, 1], [1, 1], [1, 1]]"
      ]
     },
     "execution_count": 1,
     "metadata": {},
     "output_type": "execute_result"
    }
   ],
   "source": [
    "directions = {\n",
    "    \"n\":  [0, 1],\n",
    "    \"s\":  [0, -1],\n",
    "    \"nw\": [-1, 1],\n",
    "    \"ne\": [1, 1],\n",
    "    \"sw\": [-1, -1],\n",
    "    \"se\": [1, -1]\n",
    "}\n",
    "\n",
    "def parse(line):\n",
    "    return [directions[direction] for direction in line.split(',')]\n",
    "\n",
    "def distance(movements):\n",
    "    pass # ...?\n",
    "\n",
    "parse(\"ne,ne,ne\")"
   ]
  },
  {
   "cell_type": "markdown",
   "metadata": {},
   "source": [
    "After looking into [other methods](https://www.redblobgames.com/grids/hexagons/) of managing hexagonal grids - I settled on a three-dimensional coordinate system so that the distance calculation is easier. This coordinate system has three axes:\n",
    "  1. Left->Right\n",
    "  2. Bottom-Left->Upper-Right\n",
    "  3. Bottom-Right->Upper-Left\n",
    "  \n",
    "With the nice property that the distance calculation is 1/2 of a standard manhattan distance."
   ]
  },
  {
   "cell_type": "code",
   "execution_count": 2,
   "metadata": {},
   "outputs": [
    {
     "data": {
      "text/plain": [
       "764"
      ]
     },
     "execution_count": 2,
     "metadata": {},
     "output_type": "execute_result"
    }
   ],
   "source": [
    "import numpy as np\n",
    "\n",
    "directions = {\n",
    "    \"n\":  [0, 1, -1],\n",
    "    \"s\":  [0, -1, 1],\n",
    "    \"nw\": [-1, 1, 0],\n",
    "    \"ne\": [1, 0, -1],\n",
    "    \"sw\": [-1, 0, 1],\n",
    "    \"se\": [1, -1, 0]\n",
    "}\n",
    "\n",
    "def parse(line):\n",
    "    return [np.array(directions[direction]) for direction in line.split(',')]\n",
    "\n",
    "def distance(coord1, coord2):\n",
    "    return int(sum(abs(coord1 - coord2)) / 2)\n",
    "\n",
    "\n",
    "movements = parse(open(\"./input.txt\").readline().strip())\n",
    "distance(sum(movements), np.zeros(3))"
   ]
  },
  {
   "cell_type": "markdown",
   "metadata": {},
   "source": [
    "# Problem - Part Two\n",
    "How many steps away is the furthest he ever got from his starting position?"
   ]
  },
  {
   "cell_type": "code",
   "execution_count": 3,
   "metadata": {},
   "outputs": [
    {
     "data": {
      "text/plain": [
       "1532"
      ]
     },
     "execution_count": 3,
     "metadata": {},
     "output_type": "execute_result"
    }
   ],
   "source": [
    "furthest_distance = float(\"-inf\")\n",
    "current_pos = np.zeros(3)\n",
    "for movement in movements:\n",
    "    current_pos += movement\n",
    "    furthest_distance = max(distance(current_pos, np.zeros(3)), furthest_distance)\n",
    "    \n",
    "furthest_distance"
   ]
  },
  {
   "cell_type": "code",
   "execution_count": null,
   "metadata": {},
   "outputs": [],
   "source": []
  }
 ],
 "metadata": {
  "kernelspec": {
   "display_name": "Python 2",
   "language": "python",
   "name": "python2"
  },
  "language_info": {
   "codemirror_mode": {
    "name": "ipython",
    "version": 2
   },
   "file_extension": ".py",
   "mimetype": "text/x-python",
   "name": "python",
   "nbconvert_exporter": "python",
   "pygments_lexer": "ipython2",
   "version": "2.7.14"
  }
 },
 "nbformat": 4,
 "nbformat_minor": 2
}
