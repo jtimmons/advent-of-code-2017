{
 "cells": [
  {
   "cell_type": "markdown",
   "metadata": {},
   "source": [
    "# Problem - Part One\n",
    "Walking along the memory banks of the stream, you find a small village that is experiencing a little confusion: some programs can't communicate with each other.\n",
    "\n",
    "Programs in this village communicate using a fixed system of pipes. Messages are passed between programs using these pipes, but most programs aren't connected to each other directly. Instead, programs pass messages between each other until the message reaches the intended recipient.\n",
    "\n",
    "For some reason, though, some of these messages aren't ever reaching their intended recipient, and the programs suspect that some pipes are missing. They would like you to investigate.\n",
    "\n",
    "You walk through the village and record the ID of each program and the IDs with which it can communicate directly (your puzzle input). Each program has one or more programs with which it can communicate, and these pipes are bidirectional; if 8 says it can communicate with 11, then 11 will say it can communicate with 8.\n",
    "\n",
    "You need to figure out how many programs are in the group that contains program ID 0.\n",
    "\n",
    "For example, suppose you go door-to-door like a travelling salesman and record the following list:\n",
    "\n",
    "    0 <-> 2\n",
    "    1 <-> 1\n",
    "    2 <-> 0, 3, 4\n",
    "    3 <-> 2, 4\n",
    "    4 <-> 2, 3, 6\n",
    "    5 <-> 6\n",
    "    6 <-> 4, 5\n",
    "\n",
    "In this example, the following programs are in the group that contains program ID 0:\n",
    "\n",
    "    Program 0 by definition.\n",
    "    Program 2, directly connected to program 0.\n",
    "    Program 3 via program 2.\n",
    "    Program 4 via program 2.\n",
    "    Program 5 via programs 6, then 4, then 2.\n",
    "    Program 6 via programs 4, then 2.\n",
    "\n",
    "Therefore, a total of 6 programs are in this group; all but program 1, which has a pipe that connects it to itself.\n",
    "\n",
    "How many programs are in the group that contains program ID 0?\n",
    "\n",
    "## Solution"
   ]
  },
  {
   "cell_type": "code",
   "execution_count": 16,
   "metadata": {},
   "outputs": [
    {
     "data": {
      "text/plain": [
       "141"
      ]
     },
     "execution_count": 16,
     "metadata": {},
     "output_type": "execute_result"
    }
   ],
   "source": [
    "import networkx as nx\n",
    "import networkx.algorithms.traversal.breadth_first_search as bfs\n",
    "\n",
    "def parse(line):\n",
    "    node, neighbors = line.split(\" <-> \")\n",
    "    edges = [(node, neighbor) for neighbor in neighbors.strip().split(\", \")]\n",
    "    return edges\n",
    "\n",
    "G = nx.Graph()\n",
    "for line in open('./input.txt'):\n",
    "    G.add_edges_from(parse(line))\n",
    "\n",
    "len(list(bfs.bfs_predecessors(G, '0'))) + 1 # find all nodes (plus source)"
   ]
  },
  {
   "cell_type": "markdown",
   "metadata": {},
   "source": [
    "# Problem - Part Two\n",
    "\n",
    "There are more programs than just the ones in the group containing program ID 0. The rest of them have no way of reaching that group, and still might have no way of reaching each other.\n",
    "\n",
    "A group is a collection of programs that can all communicate via pipes either directly or indirectly. The programs you identified just a moment ago are all part of the same group. Now, they would like you to determine the total number of groups.\n",
    "\n",
    "In the example above, there were 2 groups: one consisting of programs 0,2,3,4,5,6, and the other consisting solely of program 1.\n",
    "\n",
    "How many groups are there in total?\n",
    "\n",
    "## Solution"
   ]
  },
  {
   "cell_type": "code",
   "execution_count": 18,
   "metadata": {},
   "outputs": [
    {
     "data": {
      "text/plain": [
       "171"
      ]
     },
     "execution_count": 18,
     "metadata": {},
     "output_type": "execute_result"
    }
   ],
   "source": [
    "len(list(nx.connected_component_subgraphs(G)))"
   ]
  },
  {
   "cell_type": "code",
   "execution_count": null,
   "metadata": {},
   "outputs": [],
   "source": []
  }
 ],
 "metadata": {
  "kernelspec": {
   "display_name": "Python 2",
   "language": "python",
   "name": "python2"
  },
  "language_info": {
   "codemirror_mode": {
    "name": "ipython",
    "version": 2
   },
   "file_extension": ".py",
   "mimetype": "text/x-python",
   "name": "python",
   "nbconvert_exporter": "python",
   "pygments_lexer": "ipython2",
   "version": "2.7.14"
  }
 },
 "nbformat": 4,
 "nbformat_minor": 2
}
