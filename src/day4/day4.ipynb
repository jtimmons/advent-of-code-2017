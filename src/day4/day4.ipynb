{
 "cells": [
  {
   "cell_type": "markdown",
   "metadata": {},
   "source": [
    "# Problem - Part One\n",
    "A new system policy has been put in place that requires all accounts to use a passphrase instead of simply a password. A passphrase consists of a series of words (lowercase letters) separated by spaces.\n",
    "\n",
    "To ensure security, a valid passphrase must contain no duplicate words.\n",
    "\n",
    "For example:\n",
    "\n",
    "    aa bb cc dd ee is valid.\n",
    "    aa bb cc dd aa is not valid - the word aa appears more than once.\n",
    "    aa bb cc dd aaa is valid - aa and aaa count as different words.\n",
    "\n",
    "The system's full passphrase list is available as your puzzle input. How many passphrases are valid?"
   ]
  },
  {
   "cell_type": "code",
   "execution_count": 22,
   "metadata": {},
   "outputs": [],
   "source": [
    "def is_valid(passphrase):\n",
    "    words = passphrase.split()\n",
    "    return len(words) == len(set(words))"
   ]
  },
  {
   "cell_type": "code",
   "execution_count": 24,
   "metadata": {},
   "outputs": [
    {
     "name": "stdout",
     "output_type": "stream",
     "text": [
      "CORRECT! aa bb cc dd ee\n",
      "CORRECT! aa bb cc dd aa\n",
      "CORRECT! aa bb cc dd aaa\n"
     ]
    }
   ],
   "source": [
    "examples = [\n",
    "    (\"aa bb cc dd ee\", True),\n",
    "    (\"aa bb cc dd aa\", False),\n",
    "    (\"aa bb cc dd aaa\", True)\n",
    "]\n",
    "\n",
    "for problem, solution in examples:\n",
    "    result = is_valid(problem)\n",
    "    if result == solution:\n",
    "        print(\"CORRECT! {0}\".format(problem))\n",
    "    else:\n",
    "        print(\"ERROR! {0}  expected {1} but got {2}\".format(problem, solution, result))"
   ]
  },
  {
   "cell_type": "markdown",
   "metadata": {},
   "source": [
    "## Solution"
   ]
  },
  {
   "cell_type": "code",
   "execution_count": 26,
   "metadata": {},
   "outputs": [
    {
     "data": {
      "text/plain": [
       "455"
      ]
     },
     "execution_count": 26,
     "metadata": {},
     "output_type": "execute_result"
    }
   ],
   "source": [
    "len([True for line in open(\"./input.txt\") if is_valid(line.strip())])"
   ]
  },
  {
   "cell_type": "markdown",
   "metadata": {},
   "source": [
    "# Part Two\n",
    "For added security, yet another system policy has been put in place. Now, a valid passphrase must contain no two words that are anagrams of each other - that is, a passphrase is invalid if any word's letters can be rearranged to form any other word in the passphrase.\n",
    "\n",
    "For example:\n",
    "\n",
    "    abcde fghij is a valid passphrase.\n",
    "    abcde xyz ecdab is not valid - the letters from the third word can be rearranged to form the first word.\n",
    "    a ab abc abd abf abj is a valid passphrase, because all letters need to be used when forming another word.\n",
    "    iiii oiii ooii oooi oooo is valid.\n",
    "    oiii ioii iioi iiio is not valid - any of these words can be rearranged to form any other word.\n",
    "\n",
    "Under this new system policy, how many passphrases are valid?"
   ]
  },
  {
   "cell_type": "code",
   "execution_count": 31,
   "metadata": {},
   "outputs": [],
   "source": [
    "import itertools\n",
    "\n",
    "def is_anagram(word1, word2):\n",
    "    return sorted(word1) == sorted(word2)\n",
    "\n",
    "def is_valid2(passphrase):\n",
    "    words = passphrase.split()\n",
    "    anagrams = [(w1, w2) for (w1, w2) in itertools.permutations(words, 2) if is_anagram(w1, w2)]\n",
    "    return len(anagrams) == 0"
   ]
  },
  {
   "cell_type": "code",
   "execution_count": 32,
   "metadata": {},
   "outputs": [
    {
     "name": "stdout",
     "output_type": "stream",
     "text": [
      "CORRECT! abcde fghij\n",
      "CORRECT! abcde xyz ecdab\n",
      "CORRECT! a ab abc abd abf abj\n",
      "CORRECT! iiii oiii ooii oooi oooo\n",
      "CORRECT! oiii ioii iioi iiio\n"
     ]
    }
   ],
   "source": [
    "examples = [\n",
    "    (\"abcde fghij\", True),\n",
    "    (\"abcde xyz ecdab\", False),\n",
    "    (\"a ab abc abd abf abj\", True),\n",
    "    (\"iiii oiii ooii oooi oooo\", True),\n",
    "    (\"oiii ioii iioi iiio\", False)\n",
    "]\n",
    "\n",
    "for problem, solution in examples:\n",
    "    result = is_valid2(problem)\n",
    "    if result == solution:\n",
    "        print(\"CORRECT! {0}\".format(problem))\n",
    "    else:\n",
    "        print(\"ERROR! {0}  expected {1} but got {2}\".format(problem, solution, result))"
   ]
  },
  {
   "cell_type": "code",
   "execution_count": 33,
   "metadata": {},
   "outputs": [
    {
     "data": {
      "text/plain": [
       "186"
      ]
     },
     "execution_count": 33,
     "metadata": {},
     "output_type": "execute_result"
    }
   ],
   "source": [
    "len([True for line in open(\"./input.txt\") if is_valid2(line.strip())])"
   ]
  },
  {
   "cell_type": "code",
   "execution_count": null,
   "metadata": {},
   "outputs": [],
   "source": []
  }
 ],
 "metadata": {
  "kernelspec": {
   "display_name": "Python 2",
   "language": "python",
   "name": "python2"
  },
  "language_info": {
   "codemirror_mode": {
    "name": "ipython",
    "version": 2
   },
   "file_extension": ".py",
   "mimetype": "text/x-python",
   "name": "python",
   "nbconvert_exporter": "python",
   "pygments_lexer": "ipython2",
   "version": "2.7.14"
  }
 },
 "nbformat": 4,
 "nbformat_minor": 2
}
