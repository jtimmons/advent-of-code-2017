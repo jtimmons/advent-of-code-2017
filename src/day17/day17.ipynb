{
 "cells": [
  {
   "cell_type": "markdown",
   "metadata": {},
   "source": [
    "# Problem - Part One\n",
    "Suddenly, whirling in the distance, you notice what looks like a massive, pixelated hurricane: a deadly spinlock. This spinlock isn't just consuming computing power, but memory, too; vast, digital mountains are being ripped from the ground and consumed by the vortex.\n",
    "\n",
    "If you don't move quickly, fixing that printer will be the least of your problems.\n",
    "\n",
    "This spinlock's algorithm is simple but efficient, quickly consuming everything in its path. It starts with a circular buffer containing only the value 0, which it marks as the current position. It then steps forward through the circular buffer some number of steps (your puzzle input) before inserting the first new value, 1, after the value it stopped on. The inserted value becomes the current position. Then, it steps forward from there the same number of steps, and wherever it stops, inserts after it the second new value, 2, and uses that as the new current position again.\n",
    "\n",
    "It repeats this process of stepping forward, inserting a new value, and using the location of the inserted value as the new current position a total of 2017 times, inserting 2017 as its final operation, and ending with a total of 2018 values (including 0) in the circular buffer.\n",
    "\n",
    "For example, if the spinlock were to step 3 times per insert, the circular buffer would begin to evolve like this (using parentheses to mark the current position after each iteration of the algorithm):\n",
    "\n",
    "    (0), the initial state before any insertions.\n",
    "    0 (1): the spinlock steps forward three times (0, 0, 0), and then inserts the first value, 1, after it. 1 becomes the current position.\n",
    "    0 (2) 1: the spinlock steps forward three times (0, 1, 0), and then inserts the second value, 2, after it. 2 becomes the current position.\n",
    "    0  2 (3) 1: the spinlock steps forward three times (1, 0, 2), and then inserts the third value, 3, after it. 3 becomes the current position.\n",
    "\n",
    "And so on:\n",
    "\n",
    "    0  2 (4) 3  1\n",
    "    0 (5) 2  4  3  1\n",
    "    0  5  2  4  3 (6) 1\n",
    "    0  5 (7) 2  4  3  6  1\n",
    "    0  5  7  2  4  3 (8) 6  1\n",
    "    0 (9) 5  7  2  4  3  8  6  1\n",
    "\n",
    "Eventually, after 2017 insertions, the section of the circular buffer near the last insertion looks like this:\n",
    "\n",
    "    1512  1134  151 (2017) 638  1513  851\n",
    "\n",
    "Perhaps, if you can identify the value that will ultimately be after the last value written (2017), you can short-circuit the spinlock. In this example, that would be 638.\n",
    "\n",
    "What is the value after 2017 in your completed circular buffer?\n",
    "\n",
    "Your puzzle input is `314`."
   ]
  },
  {
   "cell_type": "markdown",
   "metadata": {},
   "source": [
    "## Solution"
   ]
  },
  {
   "cell_type": "code",
   "execution_count": 1,
   "metadata": {},
   "outputs": [
    {
     "data": {
      "text/plain": [
       "638"
      ]
     },
     "execution_count": 1,
     "metadata": {},
     "output_type": "execute_result"
    }
   ],
   "source": [
    "def cycle(l, pos, value, step):\n",
    "    new_pos = ((pos + step) % len(l)) + 1 # Circular list; add 1 to insert after pos\n",
    "    l.insert(new_pos, value)\n",
    "    return new_pos\n",
    "\n",
    "\n",
    "def solve(step):    \n",
    "    l = [0]\n",
    "    pos = 0\n",
    "    for i in range(1,2018):\n",
    "        pos = cycle(l, pos, i, step)\n",
    "    return l[l.index(2017) + 1]\n",
    "\n",
    "\n",
    "\n",
    "solve(step=3) # Should be 638"
   ]
  },
  {
   "cell_type": "code",
   "execution_count": 2,
   "metadata": {},
   "outputs": [
    {
     "data": {
      "text/plain": [
       "355"
      ]
     },
     "execution_count": 2,
     "metadata": {},
     "output_type": "execute_result"
    }
   ],
   "source": [
    "solve(314)"
   ]
  },
  {
   "cell_type": "markdown",
   "metadata": {},
   "source": [
    "# Problem - Part Two\n",
    "The spinlock does not short-circuit. Instead, it gets more angry. At least, you assume that's what happened; it's spinning significantly faster than it was a moment ago.\n",
    "\n",
    "You have good news and bad news.\n",
    "\n",
    "The good news is that you have improved calculations for how to stop the spinlock. They indicate that you actually need to identify the value after 0 in the current state of the circular buffer.\n",
    "\n",
    "The bad news is that while you were determining this, the spinlock has just finished inserting its fifty millionth value (50000000).\n",
    "\n",
    "What is the value after 0 the moment 50000000 is inserted?\n",
    "\n",
    "Your puzzle input is still 314."
   ]
  },
  {
   "cell_type": "markdown",
   "metadata": {},
   "source": [
    "## Solution"
   ]
  },
  {
   "cell_type": "code",
   "execution_count": null,
   "metadata": {},
   "outputs": [],
   "source": [
    "def solve(step):    \n",
    "    l = [0]\n",
    "    pos = 0\n",
    "    for i in range(1,50000001):\n",
    "        pos = cycle(l, pos, i, step)\n",
    "    return l[l.index(0) + 1]\n",
    "\n",
    "# solve(314)"
   ]
  },
  {
   "cell_type": "markdown",
   "metadata": {},
   "source": [
    "## Solution - Take 2\n",
    "Some notes:\n",
    "  - We don't _have_ to update the list during every cycle - the values in the list don't affect where things are going in the list\n",
    "  - Calculations can probably be vectorized as well\n",
    "      - Length of list is going to be equivalent to the value that you're inserting into it (eg. i)\n",
    "      - Starting position can probably be calculated from the value of i (eg. `(i * step) % len(list)` or something)\n",
    "          - May be hard because the length of the list is changing, which changes the circularity of it"
   ]
  },
  {
   "cell_type": "code",
   "execution_count": 29,
   "metadata": {},
   "outputs": [
    {
     "data": {
      "text/plain": [
       "1008"
      ]
     },
     "execution_count": 29,
     "metadata": {},
     "output_type": "execute_result"
    }
   ],
   "source": [
    "import numpy as np\n",
    "\n",
    "\n",
    "def cycle(l, pos, value, step):\n",
    "    new_pos = ((pos + step) % len(l)) + 1 # Circular list; add 1 to insert after pos\n",
    "    return new_pos\n",
    "\n",
    "\n",
    "def solve(step):\n",
    "    l    = np.full((2018,2), None)\n",
    "    l[0] = 0\n",
    "    pos  = 0\n",
    "    for i in range(1,2018):\n",
    "        pos = cycle(l, pos, i, step)\n",
    "        l[i] = [i, pos]\n",
    "\n",
    "    l = l[l[:,1].argsort()]\n",
    "    return l.item(list(l[:,0]).index(2017)+1)\n",
    "\n",
    "\n",
    "\n",
    "solve(step=3) # Should be 638"
   ]
  },
  {
   "cell_type": "code",
   "execution_count": null,
   "metadata": {},
   "outputs": [],
   "source": []
  }
 ],
 "metadata": {
  "kernelspec": {
   "display_name": "Python 2",
   "language": "python",
   "name": "python2"
  },
  "language_info": {
   "codemirror_mode": {
    "name": "ipython",
    "version": 2
   },
   "file_extension": ".py",
   "mimetype": "text/x-python",
   "name": "python",
   "nbconvert_exporter": "python",
   "pygments_lexer": "ipython2",
   "version": "2.7.14"
  }
 },
 "nbformat": 4,
 "nbformat_minor": 2
}
