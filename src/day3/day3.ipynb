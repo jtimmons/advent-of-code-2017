{
 "cells": [
  {
   "cell_type": "markdown",
   "metadata": {},
   "source": [
    "# Problem - Part One\n",
    "You come across an experimental new kind of memory stored on an infinite two-dimensional grid.\n",
    "\n",
    "Each square on the grid is allocated in a spiral pattern starting at a location marked 1 and then counting up while spiraling outward. For example, the first few squares are allocated like this:\n",
    "\n",
    "\\begin{matrix}\n",
    "17 & 16 & 15 & 14 & 13 \\\\\n",
    "18 &  5 &  4 &  3 & 12 \\\\\n",
    "19 &  6 &  1 &  2 & 11 \\\\\n",
    "20 &  7 &  8 &  9 & 10 \\\\\n",
    "21 & 22 & 23 & ---> ...\n",
    "\\end{matrix}\n",
    "\n",
    "While this is very space-efficient (no squares are skipped), requested data must be carried back to square 1 (the location of the only access port for this memory system) by programs that can only move up, down, left, or right. They always take the shortest path: the Manhattan Distance between the location of the data and square 1.\n",
    "\n",
    "For example:\n",
    "\n",
    "    Data from square 1 is carried 0 steps, since it's at the access port.\n",
    "    Data from square 12 is carried 3 steps, such as: down, left, left.\n",
    "    Data from square 23 is carried only 2 steps: up twice.\n",
    "    Data from square 1024 must be carried 31 steps.\n",
    "\n",
    "How many steps are required to carry the data from the square identified in your puzzle input all the way to the access port?\n",
    "\n",
    "Your puzzle input is **325489**."
   ]
  },
  {
   "cell_type": "markdown",
   "metadata": {},
   "source": [
    "# Notes\n",
    "\n",
    "- Each spiral is a \"square grid\" of size $1^2, 3^2, 5^2...$\n",
    "- This means that numbers for each grid are in the range $((n-2)^2 + 1, n^2]$\n",
    "  - First range is (0, 1]. Second range is (2, 9]. Third range is (10, 25]. etc...\n",
    "- Each leg of the spiral is $n$ items long (because the grid is $(n*n)$)\n",
    "- Bottom-right diagonal location is $n^2$\n",
    "\n",
    "\n",
    "Idea is to:\n",
    "1. Bucket the bottom-right-hand corner of the spiral based on the nearest square (rounded down)\n",
    "2. Move around the spiral based on the distance to the next square"
   ]
  },
  {
   "cell_type": "code",
   "execution_count": 130,
   "metadata": {},
   "outputs": [],
   "source": [
    "def find_nearest_odd_square(n):\n",
    "    \"\"\"Returns nearest off square which is greater than 'n' along with its index\"\"\"\n",
    "    odds = itertools.islice(itertools.count(1, step=2), 0, n) # Limit to at most 'n' items\n",
    "    for i, odd in enumerate(odds):\n",
    "        if n <= odd**2:\n",
    "            return (odd, odd**2, i)\n",
    "    return 0\n",
    "\n",
    "\n",
    "def get_spiral_point(n):\n",
    "    odd, square, bucket = find_nearest_odd_square(n)\n",
    "\n",
    "    diff = square - n\n",
    "    x, y = bucket, bucket\n",
    "\n",
    "    for i in range(1, diff+1):\n",
    "        if 0 < i < odd:\n",
    "            x -= 1\n",
    "        elif odd <= i <= 2 * (odd-1):\n",
    "            y -= 1\n",
    "        elif 2 * (odd-1) <= i <= 3 * (odd-1):\n",
    "            x += 1\n",
    "        elif 3 * (odd-1) <= i:\n",
    "            y += 1\n",
    "\n",
    "    return x, y\n",
    "\n",
    "def solve(n):\n",
    "    x, y = get_spiral_point(n)\n",
    "    return abs(x) + abs(y)"
   ]
  },
  {
   "cell_type": "code",
   "execution_count": 131,
   "metadata": {},
   "outputs": [
    {
     "name": "stdout",
     "output_type": "stream",
     "text": [
      "CORRECT: 1\n",
      "CORRECT: 12\n",
      "CORRECT: 23\n",
      "CORRECT: 1024\n"
     ]
    }
   ],
   "source": [
    "examples = [\n",
    "    (1,    0),\n",
    "    (12,   3),\n",
    "    (23,   2),\n",
    "    (1024, 31)\n",
    "]\n",
    "\n",
    "for problem, solution in examples:\n",
    "    result = solve(problem)\n",
    "    if result == solution:\n",
    "        print(\"CORRECT: {0}\".format(problem))\n",
    "    else:\n",
    "        print(\"INCORRECT: {0}. Expected {1} but got {2}\".format(problem, solution, result))"
   ]
  },
  {
   "cell_type": "code",
   "execution_count": 132,
   "metadata": {},
   "outputs": [
    {
     "name": "stdout",
     "output_type": "stream",
     "text": [
      "552\n"
     ]
    }
   ],
   "source": [
    "N = 325489\n",
    "print(solve(N))"
   ]
  },
  {
   "cell_type": "markdown",
   "metadata": {},
   "source": [
    "# Part Two\n",
    "As a stress test on the system, the programs here clear the grid and then store the value 1 in square 1. Then, in the same allocation order as shown above, they store the sum of the values in all adjacent squares, including diagonals.\n",
    "\n",
    "So, the first few squares' values are chosen as follows:\n",
    "\n",
    "    Square 1 starts with the value 1.\n",
    "    Square 2 has only one adjacent filled square (with value 1), so it also stores 1.\n",
    "    Square 3 has both of the above squares as neighbors and stores the sum of their values, 2.\n",
    "    Square 4 has all three of the aforementioned squares as neighbors and stores the sum of their values, 4.\n",
    "    Square 5 only has the first and fourth squares as neighbors, so it gets the value 5.\n",
    "\n",
    "Once a square is written, its value does not change. Therefore, the first few squares would receive the following values:\n",
    "\n",
    "\\begin{matrix}\n",
    "147 &  142 &  133 &  122 &   59 \\\\\n",
    "304 &    5 &    4 &    2 &   57 \\\\\n",
    "330 &   10 &    1 &    1 &   54 \\\\\n",
    "351 &   11 &   23 &   25 &   26 \\\\\n",
    "362 &  747 &  806 & --->   ...\n",
    "\\end{matrix}\n",
    "\n",
    "What is the first value written that is larger than your puzzle input?"
   ]
  },
  {
   "cell_type": "code",
   "execution_count": null,
   "metadata": {},
   "outputs": [],
   "source": []
  }
 ],
 "metadata": {
  "kernelspec": {
   "display_name": "Python 2",
   "language": "python",
   "name": "python2"
  },
  "language_info": {
   "codemirror_mode": {
    "name": "ipython",
    "version": 2
   },
   "file_extension": ".py",
   "mimetype": "text/x-python",
   "name": "python",
   "nbconvert_exporter": "python",
   "pygments_lexer": "ipython2",
   "version": "2.7.14"
  }
 },
 "nbformat": 4,
 "nbformat_minor": 2
}
