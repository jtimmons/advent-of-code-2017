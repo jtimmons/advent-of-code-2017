{
 "cells": [
  {
   "cell_type": "markdown",
   "metadata": {},
   "source": [
    "# Problem - Part One\n",
    "An urgent interrupt arrives from the CPU: it's trapped in a maze of jump instructions, and it would like assistance from any programs with spare cycles to help find the exit.\n",
    "\n",
    "The message includes a list of the offsets for each jump. Jumps are relative: -1 moves to the previous instruction, and 2 skips the next one. Start at the first instruction in the list. The goal is to follow the jumps until one leads outside the list.\n",
    "\n",
    "In addition, these instructions are a little strange; after each jump, the offset of that instruction increases by 1. So, if you come across an offset of 3, you would move three instructions forward, but change it to a 4 for the next time it is encountered.\n",
    "\n",
    "For example, consider the following list of jump offsets:\n",
    "\n",
    "0  \n",
    "3  \n",
    "0  \n",
    "1  \n",
    "-3  \n",
    "\n",
    "Positive jumps (\"forward\") move downward; negative jumps move upward. For legibility in this example, these offset values will be written all on one line, with the current instruction marked in parentheses. The following steps would be taken before an exit is found:\n",
    "\n",
    "    (0) 3  0  1  -3  - before we have taken any steps.\n",
    "    (1) 3  0  1  -3  - jump with offset 0 (that is, don't jump at all). Fortunately, the instruction is then incremented to 1.\n",
    "     2 (3) 0  1  -3  - step forward because of the instruction we just modified. The first instruction is incremented again, now to 2.\n",
    "     2  4  0  1 (-3) - jump all the way to the end; leave a 4 behind.\n",
    "     2 (4) 0  1  -2  - go back to where we just were; increment -3 to -2.\n",
    "     2  5  0  1  -2  - jump 4 steps forward, escaping the maze.\n",
    "\n",
    "In this example, the exit is reached in 5 steps.\n",
    "\n",
    "How many steps does it take to reach the exit?"
   ]
  },
  {
   "cell_type": "code",
   "execution_count": 1,
   "metadata": {},
   "outputs": [],
   "source": [
    "def solve(l, loc=0, step=0):\n",
    "    if loc not in range(len(l)):\n",
    "        return step\n",
    "    else:\n",
    "        l[loc] += 1\n",
    "        return solve(l, loc + l[loc] - 1, step+1)"
   ]
  },
  {
   "cell_type": "markdown",
   "metadata": {},
   "source": [
    "Trying to run the above on the input dataset blew the stack, even with a raised system recursion limit. Converting the function to use a while loop solved that problem nicely."
   ]
  },
  {
   "cell_type": "code",
   "execution_count": 2,
   "metadata": {},
   "outputs": [],
   "source": [
    "def solve_loop(l):\n",
    "    loc = 0\n",
    "    step = 0\n",
    "    \n",
    "    while True:\n",
    "        if loc not in range(len(l)):\n",
    "            return step\n",
    "        else:\n",
    "            l[loc] += 1\n",
    "            loc = loc + l[loc] - 1\n",
    "            step += 1"
   ]
  },
  {
   "cell_type": "markdown",
   "metadata": {},
   "source": [
    "## Testing"
   ]
  },
  {
   "cell_type": "code",
   "execution_count": 3,
   "metadata": {},
   "outputs": [
    {
     "name": "stdout",
     "output_type": "stream",
     "text": [
      "CORRECT: [2, 5, 0, 1, -2]\n"
     ]
    }
   ],
   "source": [
    "problem, solution = ([0, 3, 0, 1, -3], 5)\n",
    "\n",
    "result = solve_loop(problem)\n",
    "if result == solution:\n",
    "    print(\"CORRECT: {0}\".format(problem))\n",
    "else:\n",
    "    print(\"INCORRECT: {0}\".format(problem))"
   ]
  },
  {
   "cell_type": "markdown",
   "metadata": {},
   "source": [
    "## Solution"
   ]
  },
  {
   "cell_type": "code",
   "execution_count": 4,
   "metadata": {},
   "outputs": [
    {
     "data": {
      "text/plain": [
       "378980"
      ]
     },
     "execution_count": 4,
     "metadata": {},
     "output_type": "execute_result"
    }
   ],
   "source": [
    "l = [int(line.strip()) for line in open(\"./input.txt\")]\n",
    "solve_loop(l)"
   ]
  },
  {
   "cell_type": "markdown",
   "metadata": {},
   "source": [
    "# Part Two\n",
    "Now, the jumps are even stranger: after each jump, if the offset was three or more, instead decrease it by 1. Otherwise, increase it by 1 as before.\n",
    "\n",
    "Using this rule with the above example, the process now takes 10 steps, and the offset values after finding the exit are left as 2 3 2 3 -1.\n",
    "\n",
    "How many steps does it now take to reach the exit?"
   ]
  },
  {
   "cell_type": "code",
   "execution_count": 59,
   "metadata": {},
   "outputs": [],
   "source": [
    "def solve_loop2(l):\n",
    "    loc = 0\n",
    "    step = 0\n",
    "    offset = 0\n",
    "    \n",
    "    while True:\n",
    "        if loc not in range(len(l)):\n",
    "            return step\n",
    "        else:\n",
    "            #print([str(x) if i!= loc else \"({0})\".format(x) for (i,x) in enumerate(l)])\n",
    "            l[loc] = l[loc]-1 if offset >= 3 else l[loc]+1\n",
    "            offset = loc + l[loc] - 1\n",
    "            loc    = offset\n",
    "            step  += 1\n",
    "            \n",
    "def solve_loop2(l):\n",
    "    loc = 0\n",
    "    step = 0\n",
    "    \n",
    "    while True:\n",
    "        if loc not in range(len(l)):\n",
    "            print(l)\n",
    "            return step\n",
    "        else:\n",
    "            print([str(x) if i!= loc else \"({0})\".format(x) for (i,x) in enumerate(l)])\n",
    "            prev = loc\n",
    "            loc  = loc + l[loc]\n",
    "            print(abs(prev-loc))\n",
    "            l[prev] = l[prev]-1 if abs(prev-loc)>=3 else l[prev]+1\n",
    "            step += 1"
   ]
  },
  {
   "cell_type": "code",
   "execution_count": 60,
   "metadata": {},
   "outputs": [
    {
     "name": "stdout",
     "output_type": "stream",
     "text": [
      "['(0)', '3', '0', '1', '-3']\n",
      "0\n",
      "['(1)', '3', '0', '1', '-3']\n",
      "1\n",
      "['2', '(3)', '0', '1', '-3']\n",
      "3\n",
      "['2', '2', '0', '1', '(-3)']\n",
      "3\n",
      "['2', '(2)', '0', '1', '-4']\n",
      "2\n",
      "['2', '3', '0', '(1)', '-4']\n",
      "1\n",
      "['2', '3', '0', '2', '(-4)']\n",
      "4\n",
      "['(2)', '3', '0', '2', '-5']\n",
      "2\n",
      "['3', '3', '(0)', '2', '-5']\n",
      "0\n",
      "['3', '3', '(1)', '2', '-5']\n",
      "1\n",
      "['3', '3', '2', '(2)', '-5']\n",
      "2\n",
      "[3, 3, 2, 3, -5]\n",
      "INCORRECT: [3, 3, 2, 3, -5]   expected 10 but got 11\n"
     ]
    }
   ],
   "source": [
    "problem, solution = ([0, 3, 0, 1, -3], 10)\n",
    "\n",
    "result = solve_loop2(problem)\n",
    "if result == solution:\n",
    "    print(\"CORRECT: {0}\".format(problem))\n",
    "else:\n",
    "    print(\"INCORRECT: {0}   expected {1} but got {2}\".format(problem, solution, result))"
   ]
  },
  {
   "cell_type": "code",
   "execution_count": 54,
   "metadata": {},
   "outputs": [
    {
     "data": {
      "text/plain": [
       "27"
      ]
     },
     "execution_count": 54,
     "metadata": {},
     "output_type": "execute_result"
    }
   ],
   "source": [
    "l = [int(line.strip()) for line in open(\"./input.txt\")]\n",
    "solve_loop2(l)"
   ]
  },
  {
   "cell_type": "code",
   "execution_count": null,
   "metadata": {},
   "outputs": [],
   "source": []
  }
 ],
 "metadata": {
  "kernelspec": {
   "display_name": "Python 2",
   "language": "python",
   "name": "python2"
  },
  "language_info": {
   "codemirror_mode": {
    "name": "ipython",
    "version": 2
   },
   "file_extension": ".py",
   "mimetype": "text/x-python",
   "name": "python",
   "nbconvert_exporter": "python",
   "pygments_lexer": "ipython2",
   "version": "2.7.14"
  }
 },
 "nbformat": 4,
 "nbformat_minor": 2
}
